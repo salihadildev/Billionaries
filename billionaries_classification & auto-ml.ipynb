{
 "cells": [
  {
   "cell_type": "markdown",
   "metadata": {},
   "source": [
    "# BILLIONAIRES CLASSIFICATION & AUTO-ML"
   ]
  },
  {
   "cell_type": "markdown",
   "metadata": {},
   "source": [
    "<img src=\"https://thehill.com/wp-content/uploads/sites/2/2020/10/ca_billionaires_money_istock.jpg?strip=1\">"
   ]
  },
  {
   "cell_type": "markdown",
   "metadata": {},
   "source": [
    "<a href=\"https://www.kaggle.com/datasets/mankotia/top-5-billionaries-india-1983-2023\" target=\"_blank\">Data burada</a>"
   ]
  },
  {
   "cell_type": "markdown",
   "metadata": {},
   "source": [
    "* Auto ml ile classification yaptığımız bu projede \"billionaires\" datasetini kullanarak farklı değişkenler üzerinden kişilerin yaş durumlarına göre otomatik sınıflandırma yapacağız,"
   ]
  },
  {
   "cell_type": "code",
   "execution_count": 33,
   "metadata": {
    "collapsed": true,
    "id": "CPrz7rNki-aM",
    "jupyter": {
     "outputs_hidden": true
    }
   },
   "outputs": [],
   "source": [
    "#!pip install pycaret"
   ]
  },
  {
   "cell_type": "code",
   "execution_count": 34,
   "metadata": {
    "id": "hXdLT-_2N9-p"
   },
   "outputs": [],
   "source": [
    "#!pip install --upgrade pycaret"
   ]
  },
  {
   "cell_type": "code",
   "execution_count": 2,
   "metadata": {
    "id": "rUJa22ssu-U8"
   },
   "outputs": [],
   "source": [
    "from pycaret.classification import*\n",
    "import pandas as pd\n",
    "import numpy as np\n",
    "import matplotlib.pyplot as plt\n",
    "import matplotlib.image as mpimg\n",
    "import seaborn as sns\n",
    "from pycaret.classification import*"
   ]
  },
  {
   "cell_type": "code",
   "execution_count": 3,
   "metadata": {
    "id": "PiOuXv4fwpxI"
   },
   "outputs": [],
   "source": [
    "df=pd.read_csv(\"Billionaires.csv\")"
   ]
  },
  {
   "cell_type": "code",
   "execution_count": 4,
   "metadata": {
    "colab": {
     "base_uri": "https://localhost:8080/",
     "height": 360
    },
    "id": "7uaghqpOwp0R",
    "outputId": "98e2cf7d-3d4d-4a21-efd3-e4d4047925bb"
   },
   "outputs": [
    {
     "data": {
      "application/vnd.google.colaboratory.intrinsic+json": {
       "type": "dataframe",
       "variable_name": "df"
      },
      "text/html": [
       "\n",
       "  <div id=\"df-3759a850-3add-4830-8daa-27e9b857ff46\" class=\"colab-df-container\">\n",
       "    <div>\n",
       "<style scoped>\n",
       "    .dataframe tbody tr th:only-of-type {\n",
       "        vertical-align: middle;\n",
       "    }\n",
       "\n",
       "    .dataframe tbody tr th {\n",
       "        vertical-align: top;\n",
       "    }\n",
       "\n",
       "    .dataframe thead th {\n",
       "        text-align: right;\n",
       "    }\n",
       "</style>\n",
       "<table border=\"1\" class=\"dataframe\">\n",
       "  <thead>\n",
       "    <tr style=\"text-align: right;\">\n",
       "      <th></th>\n",
       "      <th>rank</th>\n",
       "      <th>finalWorth</th>\n",
       "      <th>category</th>\n",
       "      <th>personName</th>\n",
       "      <th>age</th>\n",
       "      <th>country</th>\n",
       "      <th>city</th>\n",
       "      <th>source</th>\n",
       "      <th>industries</th>\n",
       "      <th>countryOfCitizenship</th>\n",
       "      <th>...</th>\n",
       "      <th>cpi_change_country</th>\n",
       "      <th>gdp_country</th>\n",
       "      <th>gross_tertiary_education_enrollment</th>\n",
       "      <th>gross_primary_education_enrollment_country</th>\n",
       "      <th>life_expectancy_country</th>\n",
       "      <th>tax_revenue_country_country</th>\n",
       "      <th>total_tax_rate_country</th>\n",
       "      <th>population_country</th>\n",
       "      <th>latitude_country</th>\n",
       "      <th>longitude_country</th>\n",
       "    </tr>\n",
       "  </thead>\n",
       "  <tbody>\n",
       "    <tr>\n",
       "      <th>0</th>\n",
       "      <td>1</td>\n",
       "      <td>211000</td>\n",
       "      <td>Fashion &amp; Retail</td>\n",
       "      <td>Bernard Arnault &amp; family</td>\n",
       "      <td>74.0</td>\n",
       "      <td>France</td>\n",
       "      <td>Paris</td>\n",
       "      <td>LVMH</td>\n",
       "      <td>Fashion &amp; Retail</td>\n",
       "      <td>France</td>\n",
       "      <td>...</td>\n",
       "      <td>1.1</td>\n",
       "      <td>$2,715,518,274,227</td>\n",
       "      <td>65.6</td>\n",
       "      <td>102.5</td>\n",
       "      <td>82.5</td>\n",
       "      <td>24.2</td>\n",
       "      <td>60.7</td>\n",
       "      <td>67059887.0</td>\n",
       "      <td>46.227638</td>\n",
       "      <td>2.213749</td>\n",
       "    </tr>\n",
       "    <tr>\n",
       "      <th>1</th>\n",
       "      <td>2</td>\n",
       "      <td>180000</td>\n",
       "      <td>Automotive</td>\n",
       "      <td>Elon Musk</td>\n",
       "      <td>51.0</td>\n",
       "      <td>United States</td>\n",
       "      <td>Austin</td>\n",
       "      <td>Tesla, SpaceX</td>\n",
       "      <td>Automotive</td>\n",
       "      <td>United States</td>\n",
       "      <td>...</td>\n",
       "      <td>7.5</td>\n",
       "      <td>$21,427,700,000,000</td>\n",
       "      <td>88.2</td>\n",
       "      <td>101.8</td>\n",
       "      <td>78.5</td>\n",
       "      <td>9.6</td>\n",
       "      <td>36.6</td>\n",
       "      <td>328239523.0</td>\n",
       "      <td>37.090240</td>\n",
       "      <td>-95.712891</td>\n",
       "    </tr>\n",
       "    <tr>\n",
       "      <th>2</th>\n",
       "      <td>3</td>\n",
       "      <td>114000</td>\n",
       "      <td>Technology</td>\n",
       "      <td>Jeff Bezos</td>\n",
       "      <td>59.0</td>\n",
       "      <td>United States</td>\n",
       "      <td>Medina</td>\n",
       "      <td>Amazon</td>\n",
       "      <td>Technology</td>\n",
       "      <td>United States</td>\n",
       "      <td>...</td>\n",
       "      <td>7.5</td>\n",
       "      <td>$21,427,700,000,000</td>\n",
       "      <td>88.2</td>\n",
       "      <td>101.8</td>\n",
       "      <td>78.5</td>\n",
       "      <td>9.6</td>\n",
       "      <td>36.6</td>\n",
       "      <td>328239523.0</td>\n",
       "      <td>37.090240</td>\n",
       "      <td>-95.712891</td>\n",
       "    </tr>\n",
       "    <tr>\n",
       "      <th>3</th>\n",
       "      <td>4</td>\n",
       "      <td>107000</td>\n",
       "      <td>Technology</td>\n",
       "      <td>Larry Ellison</td>\n",
       "      <td>78.0</td>\n",
       "      <td>United States</td>\n",
       "      <td>Lanai</td>\n",
       "      <td>Oracle</td>\n",
       "      <td>Technology</td>\n",
       "      <td>United States</td>\n",
       "      <td>...</td>\n",
       "      <td>7.5</td>\n",
       "      <td>$21,427,700,000,000</td>\n",
       "      <td>88.2</td>\n",
       "      <td>101.8</td>\n",
       "      <td>78.5</td>\n",
       "      <td>9.6</td>\n",
       "      <td>36.6</td>\n",
       "      <td>328239523.0</td>\n",
       "      <td>37.090240</td>\n",
       "      <td>-95.712891</td>\n",
       "    </tr>\n",
       "    <tr>\n",
       "      <th>4</th>\n",
       "      <td>5</td>\n",
       "      <td>106000</td>\n",
       "      <td>Finance &amp; Investments</td>\n",
       "      <td>Warren Buffett</td>\n",
       "      <td>92.0</td>\n",
       "      <td>United States</td>\n",
       "      <td>Omaha</td>\n",
       "      <td>Berkshire Hathaway</td>\n",
       "      <td>Finance &amp; Investments</td>\n",
       "      <td>United States</td>\n",
       "      <td>...</td>\n",
       "      <td>7.5</td>\n",
       "      <td>$21,427,700,000,000</td>\n",
       "      <td>88.2</td>\n",
       "      <td>101.8</td>\n",
       "      <td>78.5</td>\n",
       "      <td>9.6</td>\n",
       "      <td>36.6</td>\n",
       "      <td>328239523.0</td>\n",
       "      <td>37.090240</td>\n",
       "      <td>-95.712891</td>\n",
       "    </tr>\n",
       "  </tbody>\n",
       "</table>\n",
       "<p>5 rows × 35 columns</p>\n",
       "</div>\n",
       "    <div class=\"colab-df-buttons\">\n",
       "\n",
       "  <div class=\"colab-df-container\">\n",
       "    <button class=\"colab-df-convert\" onclick=\"convertToInteractive('df-3759a850-3add-4830-8daa-27e9b857ff46')\"\n",
       "            title=\"Convert this dataframe to an interactive table.\"\n",
       "            style=\"display:none;\">\n",
       "\n",
       "  <svg xmlns=\"http://www.w3.org/2000/svg\" height=\"24px\" viewBox=\"0 -960 960 960\">\n",
       "    <path d=\"M120-120v-720h720v720H120Zm60-500h600v-160H180v160Zm220 220h160v-160H400v160Zm0 220h160v-160H400v160ZM180-400h160v-160H180v160Zm440 0h160v-160H620v160ZM180-180h160v-160H180v160Zm440 0h160v-160H620v160Z\"/>\n",
       "  </svg>\n",
       "    </button>\n",
       "\n",
       "  <style>\n",
       "    .colab-df-container {\n",
       "      display:flex;\n",
       "      gap: 12px;\n",
       "    }\n",
       "\n",
       "    .colab-df-convert {\n",
       "      background-color: #E8F0FE;\n",
       "      border: none;\n",
       "      border-radius: 50%;\n",
       "      cursor: pointer;\n",
       "      display: none;\n",
       "      fill: #1967D2;\n",
       "      height: 32px;\n",
       "      padding: 0 0 0 0;\n",
       "      width: 32px;\n",
       "    }\n",
       "\n",
       "    .colab-df-convert:hover {\n",
       "      background-color: #E2EBFA;\n",
       "      box-shadow: 0px 1px 2px rgba(60, 64, 67, 0.3), 0px 1px 3px 1px rgba(60, 64, 67, 0.15);\n",
       "      fill: #174EA6;\n",
       "    }\n",
       "\n",
       "    .colab-df-buttons div {\n",
       "      margin-bottom: 4px;\n",
       "    }\n",
       "\n",
       "    [theme=dark] .colab-df-convert {\n",
       "      background-color: #3B4455;\n",
       "      fill: #D2E3FC;\n",
       "    }\n",
       "\n",
       "    [theme=dark] .colab-df-convert:hover {\n",
       "      background-color: #434B5C;\n",
       "      box-shadow: 0px 1px 3px 1px rgba(0, 0, 0, 0.15);\n",
       "      filter: drop-shadow(0px 1px 2px rgba(0, 0, 0, 0.3));\n",
       "      fill: #FFFFFF;\n",
       "    }\n",
       "  </style>\n",
       "\n",
       "    <script>\n",
       "      const buttonEl =\n",
       "        document.querySelector('#df-3759a850-3add-4830-8daa-27e9b857ff46 button.colab-df-convert');\n",
       "      buttonEl.style.display =\n",
       "        google.colab.kernel.accessAllowed ? 'block' : 'none';\n",
       "\n",
       "      async function convertToInteractive(key) {\n",
       "        const element = document.querySelector('#df-3759a850-3add-4830-8daa-27e9b857ff46');\n",
       "        const dataTable =\n",
       "          await google.colab.kernel.invokeFunction('convertToInteractive',\n",
       "                                                    [key], {});\n",
       "        if (!dataTable) return;\n",
       "\n",
       "        const docLinkHtml = 'Like what you see? Visit the ' +\n",
       "          '<a target=\"_blank\" href=https://colab.research.google.com/notebooks/data_table.ipynb>data table notebook</a>'\n",
       "          + ' to learn more about interactive tables.';\n",
       "        element.innerHTML = '';\n",
       "        dataTable['output_type'] = 'display_data';\n",
       "        await google.colab.output.renderOutput(dataTable, element);\n",
       "        const docLink = document.createElement('div');\n",
       "        docLink.innerHTML = docLinkHtml;\n",
       "        element.appendChild(docLink);\n",
       "      }\n",
       "    </script>\n",
       "  </div>\n",
       "\n",
       "\n",
       "<div id=\"df-eb8a1386-51d4-4f5e-89bd-951d1174d661\">\n",
       "  <button class=\"colab-df-quickchart\" onclick=\"quickchart('df-eb8a1386-51d4-4f5e-89bd-951d1174d661')\"\n",
       "            title=\"Suggest charts\"\n",
       "            style=\"display:none;\">\n",
       "\n",
       "<svg xmlns=\"http://www.w3.org/2000/svg\" height=\"24px\"viewBox=\"0 0 24 24\"\n",
       "     width=\"24px\">\n",
       "    <g>\n",
       "        <path d=\"M19 3H5c-1.1 0-2 .9-2 2v14c0 1.1.9 2 2 2h14c1.1 0 2-.9 2-2V5c0-1.1-.9-2-2-2zM9 17H7v-7h2v7zm4 0h-2V7h2v10zm4 0h-2v-4h2v4z\"/>\n",
       "    </g>\n",
       "</svg>\n",
       "  </button>\n",
       "\n",
       "<style>\n",
       "  .colab-df-quickchart {\n",
       "      --bg-color: #E8F0FE;\n",
       "      --fill-color: #1967D2;\n",
       "      --hover-bg-color: #E2EBFA;\n",
       "      --hover-fill-color: #174EA6;\n",
       "      --disabled-fill-color: #AAA;\n",
       "      --disabled-bg-color: #DDD;\n",
       "  }\n",
       "\n",
       "  [theme=dark] .colab-df-quickchart {\n",
       "      --bg-color: #3B4455;\n",
       "      --fill-color: #D2E3FC;\n",
       "      --hover-bg-color: #434B5C;\n",
       "      --hover-fill-color: #FFFFFF;\n",
       "      --disabled-bg-color: #3B4455;\n",
       "      --disabled-fill-color: #666;\n",
       "  }\n",
       "\n",
       "  .colab-df-quickchart {\n",
       "    background-color: var(--bg-color);\n",
       "    border: none;\n",
       "    border-radius: 50%;\n",
       "    cursor: pointer;\n",
       "    display: none;\n",
       "    fill: var(--fill-color);\n",
       "    height: 32px;\n",
       "    padding: 0;\n",
       "    width: 32px;\n",
       "  }\n",
       "\n",
       "  .colab-df-quickchart:hover {\n",
       "    background-color: var(--hover-bg-color);\n",
       "    box-shadow: 0 1px 2px rgba(60, 64, 67, 0.3), 0 1px 3px 1px rgba(60, 64, 67, 0.15);\n",
       "    fill: var(--button-hover-fill-color);\n",
       "  }\n",
       "\n",
       "  .colab-df-quickchart-complete:disabled,\n",
       "  .colab-df-quickchart-complete:disabled:hover {\n",
       "    background-color: var(--disabled-bg-color);\n",
       "    fill: var(--disabled-fill-color);\n",
       "    box-shadow: none;\n",
       "  }\n",
       "\n",
       "  .colab-df-spinner {\n",
       "    border: 2px solid var(--fill-color);\n",
       "    border-color: transparent;\n",
       "    border-bottom-color: var(--fill-color);\n",
       "    animation:\n",
       "      spin 1s steps(1) infinite;\n",
       "  }\n",
       "\n",
       "  @keyframes spin {\n",
       "    0% {\n",
       "      border-color: transparent;\n",
       "      border-bottom-color: var(--fill-color);\n",
       "      border-left-color: var(--fill-color);\n",
       "    }\n",
       "    20% {\n",
       "      border-color: transparent;\n",
       "      border-left-color: var(--fill-color);\n",
       "      border-top-color: var(--fill-color);\n",
       "    }\n",
       "    30% {\n",
       "      border-color: transparent;\n",
       "      border-left-color: var(--fill-color);\n",
       "      border-top-color: var(--fill-color);\n",
       "      border-right-color: var(--fill-color);\n",
       "    }\n",
       "    40% {\n",
       "      border-color: transparent;\n",
       "      border-right-color: var(--fill-color);\n",
       "      border-top-color: var(--fill-color);\n",
       "    }\n",
       "    60% {\n",
       "      border-color: transparent;\n",
       "      border-right-color: var(--fill-color);\n",
       "    }\n",
       "    80% {\n",
       "      border-color: transparent;\n",
       "      border-right-color: var(--fill-color);\n",
       "      border-bottom-color: var(--fill-color);\n",
       "    }\n",
       "    90% {\n",
       "      border-color: transparent;\n",
       "      border-bottom-color: var(--fill-color);\n",
       "    }\n",
       "  }\n",
       "</style>\n",
       "\n",
       "  <script>\n",
       "    async function quickchart(key) {\n",
       "      const quickchartButtonEl =\n",
       "        document.querySelector('#' + key + ' button');\n",
       "      quickchartButtonEl.disabled = true;  // To prevent multiple clicks.\n",
       "      quickchartButtonEl.classList.add('colab-df-spinner');\n",
       "      try {\n",
       "        const charts = await google.colab.kernel.invokeFunction(\n",
       "            'suggestCharts', [key], {});\n",
       "      } catch (error) {\n",
       "        console.error('Error during call to suggestCharts:', error);\n",
       "      }\n",
       "      quickchartButtonEl.classList.remove('colab-df-spinner');\n",
       "      quickchartButtonEl.classList.add('colab-df-quickchart-complete');\n",
       "    }\n",
       "    (() => {\n",
       "      let quickchartButtonEl =\n",
       "        document.querySelector('#df-eb8a1386-51d4-4f5e-89bd-951d1174d661 button');\n",
       "      quickchartButtonEl.style.display =\n",
       "        google.colab.kernel.accessAllowed ? 'block' : 'none';\n",
       "    })();\n",
       "  </script>\n",
       "</div>\n",
       "\n",
       "    </div>\n",
       "  </div>\n"
      ],
      "text/plain": [
       "   rank  finalWorth               category                personName   age  \\\n",
       "0     1      211000       Fashion & Retail  Bernard Arnault & family  74.0   \n",
       "1     2      180000             Automotive                 Elon Musk  51.0   \n",
       "2     3      114000             Technology                Jeff Bezos  59.0   \n",
       "3     4      107000             Technology             Larry Ellison  78.0   \n",
       "4     5      106000  Finance & Investments            Warren Buffett  92.0   \n",
       "\n",
       "         country    city              source             industries  \\\n",
       "0         France   Paris                LVMH       Fashion & Retail   \n",
       "1  United States  Austin       Tesla, SpaceX             Automotive   \n",
       "2  United States  Medina              Amazon             Technology   \n",
       "3  United States   Lanai              Oracle             Technology   \n",
       "4  United States   Omaha  Berkshire Hathaway  Finance & Investments   \n",
       "\n",
       "  countryOfCitizenship  ... cpi_change_country           gdp_country  \\\n",
       "0               France  ...                1.1   $2,715,518,274,227    \n",
       "1        United States  ...                7.5  $21,427,700,000,000    \n",
       "2        United States  ...                7.5  $21,427,700,000,000    \n",
       "3        United States  ...                7.5  $21,427,700,000,000    \n",
       "4        United States  ...                7.5  $21,427,700,000,000    \n",
       "\n",
       "  gross_tertiary_education_enrollment  \\\n",
       "0                                65.6   \n",
       "1                                88.2   \n",
       "2                                88.2   \n",
       "3                                88.2   \n",
       "4                                88.2   \n",
       "\n",
       "  gross_primary_education_enrollment_country life_expectancy_country  \\\n",
       "0                                      102.5                    82.5   \n",
       "1                                      101.8                    78.5   \n",
       "2                                      101.8                    78.5   \n",
       "3                                      101.8                    78.5   \n",
       "4                                      101.8                    78.5   \n",
       "\n",
       "  tax_revenue_country_country total_tax_rate_country population_country  \\\n",
       "0                        24.2                   60.7         67059887.0   \n",
       "1                         9.6                   36.6        328239523.0   \n",
       "2                         9.6                   36.6        328239523.0   \n",
       "3                         9.6                   36.6        328239523.0   \n",
       "4                         9.6                   36.6        328239523.0   \n",
       "\n",
       "  latitude_country longitude_country  \n",
       "0        46.227638          2.213749  \n",
       "1        37.090240        -95.712891  \n",
       "2        37.090240        -95.712891  \n",
       "3        37.090240        -95.712891  \n",
       "4        37.090240        -95.712891  \n",
       "\n",
       "[5 rows x 35 columns]"
      ]
     },
     "execution_count": 4,
     "metadata": {},
     "output_type": "execute_result"
    }
   ],
   "source": [
    "df.head()"
   ]
  },
  {
   "cell_type": "code",
   "execution_count": 5,
   "metadata": {
    "colab": {
     "base_uri": "https://localhost:8080/"
    },
    "id": "CBPj6txj1Tpt",
    "outputId": "7016bac6-5025-46a7-8f33-819a387f2097"
   },
   "outputs": [
    {
     "data": {
      "text/plain": [
       "Index(['rank', 'finalWorth', 'category', 'personName', 'age', 'country',\n",
       "       'city', 'source', 'industries', 'countryOfCitizenship', 'organization',\n",
       "       'selfMade', 'status', 'gender', 'birthDate', 'lastName', 'firstName',\n",
       "       'title', 'date', 'state', 'residenceStateRegion', 'birthYear',\n",
       "       'birthMonth', 'birthDay', 'cpi_country', 'cpi_change_country',\n",
       "       'gdp_country', 'gross_tertiary_education_enrollment',\n",
       "       'gross_primary_education_enrollment_country', 'life_expectancy_country',\n",
       "       'tax_revenue_country_country', 'total_tax_rate_country',\n",
       "       'population_country', 'latitude_country', 'longitude_country'],\n",
       "      dtype='object')"
      ]
     },
     "execution_count": 5,
     "metadata": {},
     "output_type": "execute_result"
    }
   ],
   "source": [
    "df.columns"
   ]
  },
  {
   "cell_type": "code",
   "execution_count": 6,
   "metadata": {
    "colab": {
     "base_uri": "https://localhost:8080/",
     "height": 1000
    },
    "collapsed": true,
    "id": "OsZPXEHuwp6h",
    "jupyter": {
     "outputs_hidden": true
    },
    "outputId": "dda407c1-a747-402f-97be-f233af961d62"
   },
   "outputs": [
    {
     "data": {
      "text/plain": [
       "<Axes: xlabel='count', ylabel='industries'>"
      ]
     },
     "execution_count": 6,
     "metadata": {},
     "output_type": "execute_result"
    },
    {
     "data": {
      "image/png": "[encoded data removed]",
      "text/plain": [
       "<Figure size 2000x6000 with 1 Axes>"
      ]
     },
     "metadata": {},
     "output_type": "display_data"
    }
   ],
   "source": [
    "plt.figure(figsize=(20,60))\n",
    "sns.countplot(y=df['industries'])"
   ]
  },
  {
   "cell_type": "code",
   "execution_count": 7,
   "metadata": {
    "colab": {
     "base_uri": "https://localhost:8080/",
     "height": 1000
    },
    "collapsed": true,
    "id": "lU6GdyuJze_Q",
    "jupyter": {
     "outputs_hidden": true
    },
    "outputId": "eac64d34-bbc8-4e3b-e6c0-f6af66a3dda0"
   },
   "outputs": [
    {
     "data": {
      "text/plain": [
       "<Axes: xlabel='count', ylabel='age'>"
      ]
     },
     "execution_count": 7,
     "metadata": {},
     "output_type": "execute_result"
    },
    {
     "data": {
      "image/png": "[encoded data removed]",
      "text/plain": [
       "<Figure size 2000x6000 with 1 Axes>"
      ]
     },
     "metadata": {},
     "output_type": "display_data"
    }
   ],
   "source": [
    "plt.figure(figsize=(20,60))\n",
    "sns.countplot(y=df['age'])"
   ]
  },
  {
   "cell_type": "code",
   "execution_count": 8,
   "metadata": {
    "colab": {
     "base_uri": "https://localhost:8080/"
    },
    "id": "QfI4tHVh0HXq",
    "outputId": "fb27d472-db76-408e-a5c7-9447d1b8b5d3"
   },
   "outputs": [
    {
     "name": "stdout",
     "output_type": "stream",
     "text": [
      "         personName    age\n",
      "2180  George Joseph  101.0\n"
     ]
    }
   ],
   "source": [
    "# 1011 yaşında bir milyoner var, kim olduğuna bakalım\n",
    "billionaires_101 = df[df['age'] == 101]\n",
    "print(billionaires_101[['personName', 'age']])\n",
    "# kendisi şuan 102 yaşında LA'de bir sigorta kralıymış"
   ]
  },
  {
   "cell_type": "code",
   "execution_count": 9,
   "metadata": {
    "colab": {
     "base_uri": "https://localhost:8080/",
     "height": 658
    },
    "collapsed": true,
    "id": "CHDD-2lAvpct",
    "jupyter": {
     "outputs_hidden": true
    },
    "outputId": "0709ed72-ec6b-4c1f-de9f-0507faa8f840"
   },
   "outputs": [
    {
     "data": {
      "image/png": "[encoded data removed]",
      "text/plain": [
       "<Figure size 1000x600 with 1 Axes>"
      ]
     },
     "metadata": {},
     "output_type": "display_data"
    }
   ],
   "source": [
    "top_industries = df['industries'].value_counts().head(5)\n",
    "plt.figure(figsize=(10, 6))\n",
    "top_industries.plot(kind='bar', color='skyblue')\n",
    "plt.title('En Popüler 5 Sektör')\n",
    "plt.xlabel('industries')\n",
    "plt.ylabel('Milyarder Sayısı')\n",
    "plt.xticks(rotation=45)\n",
    "plt.grid(axis='y')\n",
    "plt.show()"
   ]
  },
  {
   "cell_type": "code",
   "execution_count": 10,
   "metadata": {
    "id": "JQwo0MJa1OrG"
   },
   "outputs": [],
   "source": [
    "df['age'].fillna(0, inplace=True) # auto ml fakat boşluğu doldurmadı"
   ]
  },
  {
   "cell_type": "code",
   "execution_count": 11,
   "metadata": {
    "colab": {
     "base_uri": "https://localhost:8080/"
    },
    "id": "Fanv1hSp4D8L",
    "outputId": "f9b15e17-8933-498f-9106-e8c52cab4e32"
   },
   "outputs": [
    {
     "name": "stdout",
     "output_type": "stream",
     "text": [
      "[\"'rank'\", \"'finalWorth'\", \"'category'\", \"'personName'\", \"'age'\", \"'country'\", \"'city'\", \"'source'\", \"'industries'\", \"'countryOfCitizenship'\", \"'organization'\", \"'selfMade'\", \"'status'\", \"'gender'\", \"'birthDate'\", \"'lastName'\", \"'firstName'\", \"'title'\", \"'date'\", \"'state'\", \"'residenceStateRegion'\", \"'birthYear'\", \"'birthMonth'\", \"'birthDay'\", \"'cpi_country'\", \"'cpi_change_country'\", \"'gdp_country'\", \"'gross_tertiary_education_enrollment'\", \"'gross_primary_education_enrollment_country'\", \"'life_expectancy_country'\", \"'tax_revenue_country_country'\", \"'total_tax_rate_country'\", \"'population_country'\", \"'latitude_country'\", \"'longitude_country'\"]\n"
     ]
    }
   ],
   "source": [
    "print([repr(col) for col in df.columns])  # Sütun adlarının yazılışında hata farkettim çünkü adı doğru yazdığım haşde hata veriyordu"
   ]
  },
  {
   "cell_type": "code",
   "execution_count": 12,
   "metadata": {
    "id": "YQbvQ0L54xdU"
   },
   "outputs": [],
   "source": [
    "# Sütun adlarındaki fazladan tırnağı kaldır\n",
    "df.columns = df.columns.str.strip(\"'\")"
   ]
  },
  {
   "cell_type": "code",
   "execution_count": 13,
   "metadata": {
    "colab": {
     "base_uri": "https://localhost:8080/"
    },
    "id": "MaQT8P9L5JPd",
    "outputId": "ff09813c-b720-453d-b261-bf30064b463a"
   },
   "outputs": [
    {
     "name": "stdout",
     "output_type": "stream",
     "text": [
      "['rank', 'finalWorth', 'category', 'personName', 'age', 'country', 'city', 'source', 'industries', 'countryOfCitizenship', 'organization', 'selfMade', 'status', 'gender', 'birthDate', 'lastName', 'firstName', 'title', 'date', 'state', 'residenceStateRegion', 'birthYear', 'birthMonth', 'birthDay', 'cpi_country', 'cpi_change_country', 'gdp_country', 'gross_tertiary_education_enrollment', 'gross_primary_education_enrollment_country', 'life_expectancy_country', 'tax_revenue_country_country', 'total_tax_rate_country', 'population_country', 'latitude_country', 'longitude_country']\n"
     ]
    }
   ],
   "source": [
    "print(df.columns.tolist())  # Mevcut sütunları listele"
   ]
  },
  {
   "cell_type": "code",
   "execution_count": 14,
   "metadata": {
    "id": "tLzHyzKS2O_J"
   },
   "outputs": [],
   "source": [
    "columns_to_delete = ['birthDate', 'birthYear', 'birthMonth', 'birthDay',\n",
    "                     'cpi_country', 'cpi_change_country', 'gdp_country',\n",
    "                     'gross_tertiary_education_enrollment',\n",
    "                     'gross_primary_education_enrollment_country',\n",
    "                     'life_expectancy_country', 'tax_revenue_country_country',\n",
    "                     'total_tax_rate_country', 'rank', 'status',\n",
    "                     'date', 'state', 'residenceStateRegion',\n",
    "                     'population_country', 'latitude_country',\n",
    "                     'longitude_country']\n",
    "\n",
    "df = df.drop(columns=columns_to_delete, errors='ignore')  # errors='ignore' mevcut olmayan sütunları atlar"
   ]
  },
  {
   "cell_type": "code",
   "execution_count": 15,
   "metadata": {
    "id": "vsJnZhEfxpdD"
   },
   "outputs": [],
   "source": [
    "#setup(df,target='age') # bazı yaşlardan çok az örnek olduğu için hata verdi, değiştirip yapacağım\n",
    "df_filtered = df[(df['age'] >= 30) & (df['age'] <= 99)]"
   ]
  },
  {
   "cell_type": "code",
   "execution_count": 16,
   "metadata": {
    "colab": {
     "base_uri": "https://localhost:8080/"
    },
    "id": "zJ-XR4zV0vbz",
    "outputId": "efeeb648-6e04-4424-96da-ae13873151bc"
   },
   "outputs": [
    {
     "name": "stdout",
     "output_type": "stream",
     "text": [
      "age\n",
      "31.0    1\n",
      "Name: count, dtype: int64\n"
     ]
    }
   ],
   "source": [
    "# Sadece bir örneği olan yaşları görüntüleyin\n",
    "low_count_ages = df_filtered['age'].value_counts()\n",
    "print(low_count_ages[low_count_ages == 1])"
   ]
  },
  {
   "cell_type": "code",
   "execution_count": 17,
   "metadata": {
    "id": "PJ_Tp3VW7p0w"
   },
   "outputs": [],
   "source": [
    "# Yaşları gruplayıp etiketledi, mesela 0-17 arası 0. grup\n",
    "bins = [0, 18, 30, 45, 60, 75, 90, 100]\n",
    "labels = ['0-17', '18-29', '30-44', '45-59', '60-74', '75-89', '90+']\n",
    "df_filtered['age_group'] = pd.cut(df_filtered['age'], bins=bins, labels=labels)"
   ]
  },
  {
   "cell_type": "code",
   "execution_count": 18,
   "metadata": {
    "colab": {
     "base_uri": "https://localhost:8080/"
    },
    "id": "xkpaNYEJ7NFZ",
    "outputId": "c4a70d80-a7fe-46e5-e863-a3760a8ae8b4"
   },
   "outputs": [
    {
     "name": "stdout",
     "output_type": "stream",
     "text": [
      "age_group\n",
      "60-74    973\n",
      "45-59    829\n",
      "75-89    539\n",
      "30-44    159\n",
      "90+       59\n",
      "18-29      4\n",
      "0-17       0\n",
      "Name: count, dtype: int64\n"
     ]
    }
   ],
   "source": [
    "# Yaş gruplarının dağılımını kontrol etdelim\n",
    "print(df_filtered['age_group'].value_counts())"
   ]
  },
  {
   "cell_type": "code",
   "execution_count": 19,
   "metadata": {
    "id": "yEY0wYg18Itr"
   },
   "outputs": [],
   "source": [
    "# Yeterli örneğe sahip grupları tutma\n",
    "min_samples = 50\n",
    "valid_age_groups = df_filtered['age_group'].value_counts()[df_filtered['age_group'].value_counts() >= min_samples].index\n",
    "df_filtered = df_filtered[df_filtered['age_group'].isin(valid_age_groups)]"
   ]
  },
  {
   "cell_type": "code",
   "execution_count": 20,
   "metadata": {
    "colab": {
     "base_uri": "https://localhost:8080/",
     "height": 802
    },
    "id": "HA6cf0q68Xdo",
    "outputId": "97313034-9305-4f7b-e22b-4d0aef09d25a"
   },
   "outputs": [
    {
     "data": {
      "text/html": [
       "<style type=\"text/css\">\n",
       "#T_f29b2_row11_col1 {\n",
       "  background-color: lightgreen;\n",
       "}\n",
       "</style>\n",
       "<table id=\"T_f29b2\" class=\"dataframe\">\n",
       "  <thead>\n",
       "    <tr>\n",
       "      <th class=\"blank level0\" >&nbsp;</th>\n",
       "      <th id=\"T_f29b2_level0_col0\" class=\"col_heading level0 col0\" >Description</th>\n",
       "      <th id=\"T_f29b2_level0_col1\" class=\"col_heading level0 col1\" >Value</th>\n",
       "    </tr>\n",
       "  </thead>\n",
       "  <tbody>\n",
       "    <tr>\n",
       "      <th id=\"T_f29b2_level0_row0\" class=\"row_heading level0 row0\" >0</th>\n",
       "      <td id=\"T_f29b2_row0_col0\" class=\"data row0 col0\" >Session id</td>\n",
       "      <td id=\"T_f29b2_row0_col1\" class=\"data row0 col1\" >42</td>\n",
       "    </tr>\n",
       "    <tr>\n",
       "      <th id=\"T_f29b2_level0_row1\" class=\"row_heading level0 row1\" >1</th>\n",
       "      <td id=\"T_f29b2_row1_col0\" class=\"data row1 col0\" >Target</td>\n",
       "      <td id=\"T_f29b2_row1_col1\" class=\"data row1 col1\" >age_group</td>\n",
       "    </tr>\n",
       "    <tr>\n",
       "      <th id=\"T_f29b2_level0_row2\" class=\"row_heading level0 row2\" >2</th>\n",
       "      <td id=\"T_f29b2_row2_col0\" class=\"data row2 col0\" >Target type</td>\n",
       "      <td id=\"T_f29b2_row2_col1\" class=\"data row2 col1\" >Multiclass</td>\n",
       "    </tr>\n",
       "    <tr>\n",
       "      <th id=\"T_f29b2_level0_row3\" class=\"row_heading level0 row3\" >3</th>\n",
       "      <td id=\"T_f29b2_row3_col0\" class=\"data row3 col0\" >Target mapping</td>\n",
       "      <td id=\"T_f29b2_row3_col1\" class=\"data row3 col1\" >30-44: 0, 45-59: 1, 60-74: 2, 75-89: 3, 90+: 4</td>\n",
       "    </tr>\n",
       "    <tr>\n",
       "      <th id=\"T_f29b2_level0_row4\" class=\"row_heading level0 row4\" >4</th>\n",
       "      <td id=\"T_f29b2_row4_col0\" class=\"data row4 col0\" >Original data shape</td>\n",
       "      <td id=\"T_f29b2_row4_col1\" class=\"data row4 col1\" >(2559, 16)</td>\n",
       "    </tr>\n",
       "    <tr>\n",
       "      <th id=\"T_f29b2_level0_row5\" class=\"row_heading level0 row5\" >5</th>\n",
       "      <td id=\"T_f29b2_row5_col0\" class=\"data row5 col0\" >Transformed data shape</td>\n",
       "      <td id=\"T_f29b2_row5_col1\" class=\"data row5 col1\" >(2559, 50)</td>\n",
       "    </tr>\n",
       "    <tr>\n",
       "      <th id=\"T_f29b2_level0_row6\" class=\"row_heading level0 row6\" >6</th>\n",
       "      <td id=\"T_f29b2_row6_col0\" class=\"data row6 col0\" >Transformed train set shape</td>\n",
       "      <td id=\"T_f29b2_row6_col1\" class=\"data row6 col1\" >(1791, 50)</td>\n",
       "    </tr>\n",
       "    <tr>\n",
       "      <th id=\"T_f29b2_level0_row7\" class=\"row_heading level0 row7\" >7</th>\n",
       "      <td id=\"T_f29b2_row7_col0\" class=\"data row7 col0\" >Transformed test set shape</td>\n",
       "      <td id=\"T_f29b2_row7_col1\" class=\"data row7 col1\" >(768, 50)</td>\n",
       "    </tr>\n",
       "    <tr>\n",
       "      <th id=\"T_f29b2_level0_row8\" class=\"row_heading level0 row8\" >8</th>\n",
       "      <td id=\"T_f29b2_row8_col0\" class=\"data row8 col0\" >Numeric features</td>\n",
       "      <td id=\"T_f29b2_row8_col1\" class=\"data row8 col1\" >2</td>\n",
       "    </tr>\n",
       "    <tr>\n",
       "      <th id=\"T_f29b2_level0_row9\" class=\"row_heading level0 row9\" >9</th>\n",
       "      <td id=\"T_f29b2_row9_col0\" class=\"data row9 col0\" >Categorical features</td>\n",
       "      <td id=\"T_f29b2_row9_col1\" class=\"data row9 col1\" >12</td>\n",
       "    </tr>\n",
       "    <tr>\n",
       "      <th id=\"T_f29b2_level0_row10\" class=\"row_heading level0 row10\" >10</th>\n",
       "      <td id=\"T_f29b2_row10_col0\" class=\"data row10 col0\" >Rows with missing values</td>\n",
       "      <td id=\"T_f29b2_row10_col1\" class=\"data row10 col1\" >88.2%</td>\n",
       "    </tr>\n",
       "    <tr>\n",
       "      <th id=\"T_f29b2_level0_row11\" class=\"row_heading level0 row11\" >11</th>\n",
       "      <td id=\"T_f29b2_row11_col0\" class=\"data row11 col0\" >Preprocess</td>\n",
       "      <td id=\"T_f29b2_row11_col1\" class=\"data row11 col1\" >True</td>\n",
       "    </tr>\n",
       "    <tr>\n",
       "      <th id=\"T_f29b2_level0_row12\" class=\"row_heading level0 row12\" >12</th>\n",
       "      <td id=\"T_f29b2_row12_col0\" class=\"data row12 col0\" >Imputation type</td>\n",
       "      <td id=\"T_f29b2_row12_col1\" class=\"data row12 col1\" >simple</td>\n",
       "    </tr>\n",
       "    <tr>\n",
       "      <th id=\"T_f29b2_level0_row13\" class=\"row_heading level0 row13\" >13</th>\n",
       "      <td id=\"T_f29b2_row13_col0\" class=\"data row13 col0\" >Numeric imputation</td>\n",
       "      <td id=\"T_f29b2_row13_col1\" class=\"data row13 col1\" >mean</td>\n",
       "    </tr>\n",
       "    <tr>\n",
       "      <th id=\"T_f29b2_level0_row14\" class=\"row_heading level0 row14\" >14</th>\n",
       "      <td id=\"T_f29b2_row14_col0\" class=\"data row14 col0\" >Categorical imputation</td>\n",
       "      <td id=\"T_f29b2_row14_col1\" class=\"data row14 col1\" >mode</td>\n",
       "    </tr>\n",
       "    <tr>\n",
       "      <th id=\"T_f29b2_level0_row15\" class=\"row_heading level0 row15\" >15</th>\n",
       "      <td id=\"T_f29b2_row15_col0\" class=\"data row15 col0\" >Maximum one-hot encoding</td>\n",
       "      <td id=\"T_f29b2_row15_col1\" class=\"data row15 col1\" >25</td>\n",
       "    </tr>\n",
       "    <tr>\n",
       "      <th id=\"T_f29b2_level0_row16\" class=\"row_heading level0 row16\" >16</th>\n",
       "      <td id=\"T_f29b2_row16_col0\" class=\"data row16 col0\" >Encoding method</td>\n",
       "      <td id=\"T_f29b2_row16_col1\" class=\"data row16 col1\" >None</td>\n",
       "    </tr>\n",
       "    <tr>\n",
       "      <th id=\"T_f29b2_level0_row17\" class=\"row_heading level0 row17\" >17</th>\n",
       "      <td id=\"T_f29b2_row17_col0\" class=\"data row17 col0\" >Fold Generator</td>\n",
       "      <td id=\"T_f29b2_row17_col1\" class=\"data row17 col1\" >StratifiedKFold</td>\n",
       "    </tr>\n",
       "    <tr>\n",
       "      <th id=\"T_f29b2_level0_row18\" class=\"row_heading level0 row18\" >18</th>\n",
       "      <td id=\"T_f29b2_row18_col0\" class=\"data row18 col0\" >Fold Number</td>\n",
       "      <td id=\"T_f29b2_row18_col1\" class=\"data row18 col1\" >10</td>\n",
       "    </tr>\n",
       "    <tr>\n",
       "      <th id=\"T_f29b2_level0_row19\" class=\"row_heading level0 row19\" >19</th>\n",
       "      <td id=\"T_f29b2_row19_col0\" class=\"data row19 col0\" >CPU Jobs</td>\n",
       "      <td id=\"T_f29b2_row19_col1\" class=\"data row19 col1\" >-1</td>\n",
       "    </tr>\n",
       "    <tr>\n",
       "      <th id=\"T_f29b2_level0_row20\" class=\"row_heading level0 row20\" >20</th>\n",
       "      <td id=\"T_f29b2_row20_col0\" class=\"data row20 col0\" >Use GPU</td>\n",
       "      <td id=\"T_f29b2_row20_col1\" class=\"data row20 col1\" >False</td>\n",
       "    </tr>\n",
       "    <tr>\n",
       "      <th id=\"T_f29b2_level0_row21\" class=\"row_heading level0 row21\" >21</th>\n",
       "      <td id=\"T_f29b2_row21_col0\" class=\"data row21 col0\" >Log Experiment</td>\n",
       "      <td id=\"T_f29b2_row21_col1\" class=\"data row21 col1\" >False</td>\n",
       "    </tr>\n",
       "    <tr>\n",
       "      <th id=\"T_f29b2_level0_row22\" class=\"row_heading level0 row22\" >22</th>\n",
       "      <td id=\"T_f29b2_row22_col0\" class=\"data row22 col0\" >Experiment Name</td>\n",
       "      <td id=\"T_f29b2_row22_col1\" class=\"data row22 col1\" >clf-default-name</td>\n",
       "    </tr>\n",
       "    <tr>\n",
       "      <th id=\"T_f29b2_level0_row23\" class=\"row_heading level0 row23\" >23</th>\n",
       "      <td id=\"T_f29b2_row23_col0\" class=\"data row23 col0\" >USI</td>\n",
       "      <td id=\"T_f29b2_row23_col1\" class=\"data row23 col1\" >4201</td>\n",
       "    </tr>\n",
       "  </tbody>\n",
       "</table>\n"
      ],
      "text/plain": [
       "<pandas.io.formats.style.Styler at 0x7b71f8de29b0>"
      ]
     },
     "metadata": {},
     "output_type": "display_data"
    }
   ],
   "source": [
    "clf_setup = setup(data=df_filtered, target='age_group', session_id=42)"
   ]
  },
  {
   "cell_type": "code",
   "execution_count": 22,
   "metadata": {
    "colab": {
     "base_uri": "https://localhost:8080/",
     "height": 520,
     "referenced_widgets": [
      "194a76ff12bb419aa3ca489ba4a4896d",
      "7bd5272445e049dd9736c3233c450e05",
      "15719a2fcf9f4b4e83ccd25355df68f1",
      "52a24ffce47b4ef6ae1f2b58241f4993",
      "9f0bcd64b94749758af16480564642c0",
      "ed0f26c3d147408c99f443bd8fa8a177",
      "f57c572350064d6ea8af95e5538b74b5",
      "5e33a05c8ed34c02b9a31afcb9b5f842",
      "274fb9faf3a342f1abe6b8a90cd32e9e",
      "11e3e4e3a5d14a6296055ffc5a84a4df",
      "a8ee990b5ed34beca51fa4d61df461ac"
     ]
    },
    "id": "TmJVncaT8cZ6",
    "outputId": "677e1c33-bcc0-4062-8a5c-41ee36126dfe"
   },
   "outputs": [
    {
     "data": {
      "text/html": [],
      "text/plain": [
       "<IPython.core.display.HTML object>"
      ]
     },
     "metadata": {},
     "output_type": "display_data"
    },
    {
     "data": {
      "text/html": [
       "<style type=\"text/css\">\n",
       "#T_eab8a th {\n",
       "  text-align: left;\n",
       "}\n",
       "#T_eab8a_row0_col0, #T_eab8a_row0_col2, #T_eab8a_row1_col0, #T_eab8a_row1_col1, #T_eab8a_row1_col2, #T_eab8a_row1_col3, #T_eab8a_row1_col4, #T_eab8a_row1_col5, #T_eab8a_row1_col6, #T_eab8a_row1_col7, #T_eab8a_row2_col0, #T_eab8a_row2_col1, #T_eab8a_row2_col2, #T_eab8a_row2_col3, #T_eab8a_row2_col4, #T_eab8a_row2_col5, #T_eab8a_row2_col6, #T_eab8a_row2_col7, #T_eab8a_row3_col0, #T_eab8a_row3_col1, #T_eab8a_row3_col2, #T_eab8a_row3_col3, #T_eab8a_row3_col4, #T_eab8a_row3_col5, #T_eab8a_row3_col6, #T_eab8a_row3_col7, #T_eab8a_row4_col0, #T_eab8a_row4_col1, #T_eab8a_row4_col2, #T_eab8a_row4_col3, #T_eab8a_row4_col4, #T_eab8a_row4_col5, #T_eab8a_row4_col6, #T_eab8a_row4_col7, #T_eab8a_row5_col0, #T_eab8a_row5_col1, #T_eab8a_row5_col3, #T_eab8a_row5_col4, #T_eab8a_row5_col5, #T_eab8a_row5_col6, #T_eab8a_row5_col7, #T_eab8a_row6_col0, #T_eab8a_row6_col1, #T_eab8a_row6_col2, #T_eab8a_row6_col3, #T_eab8a_row6_col4, #T_eab8a_row6_col5, #T_eab8a_row6_col6, #T_eab8a_row6_col7, #T_eab8a_row7_col0, #T_eab8a_row7_col1, #T_eab8a_row7_col2, #T_eab8a_row7_col3, #T_eab8a_row7_col4, #T_eab8a_row7_col5, #T_eab8a_row7_col6, #T_eab8a_row7_col7, #T_eab8a_row8_col0, #T_eab8a_row8_col1, #T_eab8a_row8_col2, #T_eab8a_row8_col3, #T_eab8a_row8_col4, #T_eab8a_row8_col5, #T_eab8a_row8_col6, #T_eab8a_row8_col7, #T_eab8a_row9_col0, #T_eab8a_row9_col1, #T_eab8a_row9_col2, #T_eab8a_row9_col3, #T_eab8a_row9_col4, #T_eab8a_row9_col5, #T_eab8a_row9_col6, #T_eab8a_row9_col7, #T_eab8a_row10_col0, #T_eab8a_row10_col1, #T_eab8a_row10_col2, #T_eab8a_row10_col3, #T_eab8a_row10_col4, #T_eab8a_row10_col5, #T_eab8a_row10_col6, #T_eab8a_row10_col7, #T_eab8a_row11_col0, #T_eab8a_row11_col1, #T_eab8a_row11_col2, #T_eab8a_row11_col3, #T_eab8a_row11_col4, #T_eab8a_row11_col5, #T_eab8a_row11_col6, #T_eab8a_row11_col7, #T_eab8a_row12_col0, #T_eab8a_row12_col1, #T_eab8a_row12_col2, #T_eab8a_row12_col3, #T_eab8a_row12_col4, #T_eab8a_row12_col5, #T_eab8a_row12_col6, #T_eab8a_row12_col7, #T_eab8a_row13_col0, #T_eab8a_row13_col1, #T_eab8a_row13_col2, #T_eab8a_row13_col3, #T_eab8a_row13_col4, #T_eab8a_row13_col5, #T_eab8a_row13_col6, #T_eab8a_row13_col7, #T_eab8a_row14_col0, #T_eab8a_row14_col1, #T_eab8a_row14_col2, #T_eab8a_row14_col3, #T_eab8a_row14_col4, #T_eab8a_row14_col5, #T_eab8a_row14_col6, #T_eab8a_row14_col7 {\n",
       "  text-align: left;\n",
       "}\n",
       "#T_eab8a_row0_col1, #T_eab8a_row0_col3, #T_eab8a_row0_col4, #T_eab8a_row0_col5, #T_eab8a_row0_col6, #T_eab8a_row0_col7, #T_eab8a_row5_col2 {\n",
       "  text-align: left;\n",
       "  background-color: yellow;\n",
       "}\n",
       "#T_eab8a_row0_col8, #T_eab8a_row8_col8, #T_eab8a_row9_col8, #T_eab8a_row12_col8 {\n",
       "  text-align: left;\n",
       "  background-color: yellow;\n",
       "  background-color: lightgrey;\n",
       "}\n",
       "#T_eab8a_row1_col8, #T_eab8a_row2_col8, #T_eab8a_row3_col8, #T_eab8a_row4_col8, #T_eab8a_row5_col8, #T_eab8a_row6_col8, #T_eab8a_row7_col8, #T_eab8a_row10_col8, #T_eab8a_row11_col8, #T_eab8a_row13_col8, #T_eab8a_row14_col8 {\n",
       "  text-align: left;\n",
       "  background-color: lightgrey;\n",
       "}\n",
       "</style>\n",
       "<table id=\"T_eab8a\" class=\"dataframe\">\n",
       "  <thead>\n",
       "    <tr>\n",
       "      <th class=\"blank level0\" >&nbsp;</th>\n",
       "      <th id=\"T_eab8a_level0_col0\" class=\"col_heading level0 col0\" >Model</th>\n",
       "      <th id=\"T_eab8a_level0_col1\" class=\"col_heading level0 col1\" >Accuracy</th>\n",
       "      <th id=\"T_eab8a_level0_col2\" class=\"col_heading level0 col2\" >AUC</th>\n",
       "      <th id=\"T_eab8a_level0_col3\" class=\"col_heading level0 col3\" >Recall</th>\n",
       "      <th id=\"T_eab8a_level0_col4\" class=\"col_heading level0 col4\" >Prec.</th>\n",
       "      <th id=\"T_eab8a_level0_col5\" class=\"col_heading level0 col5\" >F1</th>\n",
       "      <th id=\"T_eab8a_level0_col6\" class=\"col_heading level0 col6\" >Kappa</th>\n",
       "      <th id=\"T_eab8a_level0_col7\" class=\"col_heading level0 col7\" >MCC</th>\n",
       "      <th id=\"T_eab8a_level0_col8\" class=\"col_heading level0 col8\" >TT (Sec)</th>\n",
       "    </tr>\n",
       "  </thead>\n",
       "  <tbody>\n",
       "    <tr>\n",
       "      <th id=\"T_eab8a_level0_row0\" class=\"row_heading level0 row0\" >nb</th>\n",
       "      <td id=\"T_eab8a_row0_col0\" class=\"data row0 col0\" >Naive Bayes</td>\n",
       "      <td id=\"T_eab8a_row0_col1\" class=\"data row0 col1\" >0.8917</td>\n",
       "      <td id=\"T_eab8a_row0_col2\" class=\"data row0 col2\" >0.9807</td>\n",
       "      <td id=\"T_eab8a_row0_col3\" class=\"data row0 col3\" >0.8917</td>\n",
       "      <td id=\"T_eab8a_row0_col4\" class=\"data row0 col4\" >0.8943</td>\n",
       "      <td id=\"T_eab8a_row0_col5\" class=\"data row0 col5\" >0.8904</td>\n",
       "      <td id=\"T_eab8a_row0_col6\" class=\"data row0 col6\" >0.8454</td>\n",
       "      <td id=\"T_eab8a_row0_col7\" class=\"data row0 col7\" >0.8470</td>\n",
       "      <td id=\"T_eab8a_row0_col8\" class=\"data row0 col8\" >0.0450</td>\n",
       "    </tr>\n",
       "    <tr>\n",
       "      <th id=\"T_eab8a_level0_row1\" class=\"row_heading level0 row1\" >lr</th>\n",
       "      <td id=\"T_eab8a_row1_col0\" class=\"data row1 col0\" >Logistic Regression</td>\n",
       "      <td id=\"T_eab8a_row1_col1\" class=\"data row1 col1\" >0.8202</td>\n",
       "      <td id=\"T_eab8a_row1_col2\" class=\"data row1 col2\" >0.0000</td>\n",
       "      <td id=\"T_eab8a_row1_col3\" class=\"data row1 col3\" >0.8202</td>\n",
       "      <td id=\"T_eab8a_row1_col4\" class=\"data row1 col4\" >0.8045</td>\n",
       "      <td id=\"T_eab8a_row1_col5\" class=\"data row1 col5\" >0.8088</td>\n",
       "      <td id=\"T_eab8a_row1_col6\" class=\"data row1 col6\" >0.7414</td>\n",
       "      <td id=\"T_eab8a_row1_col7\" class=\"data row1 col7\" >0.7436</td>\n",
       "      <td id=\"T_eab8a_row1_col8\" class=\"data row1 col8\" >0.5820</td>\n",
       "    </tr>\n",
       "    <tr>\n",
       "      <th id=\"T_eab8a_level0_row2\" class=\"row_heading level0 row2\" >knn</th>\n",
       "      <td id=\"T_eab8a_row2_col0\" class=\"data row2 col0\" >K Neighbors Classifier</td>\n",
       "      <td id=\"T_eab8a_row2_col1\" class=\"data row2 col1\" >0.7728</td>\n",
       "      <td id=\"T_eab8a_row2_col2\" class=\"data row2 col2\" >0.9251</td>\n",
       "      <td id=\"T_eab8a_row2_col3\" class=\"data row2 col3\" >0.7728</td>\n",
       "      <td id=\"T_eab8a_row2_col4\" class=\"data row2 col4\" >0.7640</td>\n",
       "      <td id=\"T_eab8a_row2_col5\" class=\"data row2 col5\" >0.7596</td>\n",
       "      <td id=\"T_eab8a_row2_col6\" class=\"data row2 col6\" >0.6671</td>\n",
       "      <td id=\"T_eab8a_row2_col7\" class=\"data row2 col7\" >0.6709</td>\n",
       "      <td id=\"T_eab8a_row2_col8\" class=\"data row2 col8\" >0.2960</td>\n",
       "    </tr>\n",
       "    <tr>\n",
       "      <th id=\"T_eab8a_level0_row3\" class=\"row_heading level0 row3\" >ada</th>\n",
       "      <td id=\"T_eab8a_row3_col0\" class=\"data row3 col0\" >Ada Boost Classifier</td>\n",
       "      <td id=\"T_eab8a_row3_col1\" class=\"data row3 col1\" >0.7091</td>\n",
       "      <td id=\"T_eab8a_row3_col2\" class=\"data row3 col2\" >0.0000</td>\n",
       "      <td id=\"T_eab8a_row3_col3\" class=\"data row3 col3\" >0.7091</td>\n",
       "      <td id=\"T_eab8a_row3_col4\" class=\"data row3 col4\" >0.5143</td>\n",
       "      <td id=\"T_eab8a_row3_col5\" class=\"data row3 col5\" >0.5929</td>\n",
       "      <td id=\"T_eab8a_row3_col6\" class=\"data row3 col6\" >0.5477</td>\n",
       "      <td id=\"T_eab8a_row3_col7\" class=\"data row3 col7\" >0.6071</td>\n",
       "      <td id=\"T_eab8a_row3_col8\" class=\"data row3 col8\" >0.0690</td>\n",
       "    </tr>\n",
       "    <tr>\n",
       "      <th id=\"T_eab8a_level0_row4\" class=\"row_heading level0 row4\" >ridge</th>\n",
       "      <td id=\"T_eab8a_row4_col0\" class=\"data row4 col0\" >Ridge Classifier</td>\n",
       "      <td id=\"T_eab8a_row4_col1\" class=\"data row4 col1\" >0.5120</td>\n",
       "      <td id=\"T_eab8a_row4_col2\" class=\"data row4 col2\" >0.0000</td>\n",
       "      <td id=\"T_eab8a_row4_col3\" class=\"data row4 col3\" >0.5120</td>\n",
       "      <td id=\"T_eab8a_row4_col4\" class=\"data row4 col4\" >0.4854</td>\n",
       "      <td id=\"T_eab8a_row4_col5\" class=\"data row4 col5\" >0.4532</td>\n",
       "      <td id=\"T_eab8a_row4_col6\" class=\"data row4 col6\" >0.2442</td>\n",
       "      <td id=\"T_eab8a_row4_col7\" class=\"data row4 col7\" >0.2670</td>\n",
       "      <td id=\"T_eab8a_row4_col8\" class=\"data row4 col8\" >0.0470</td>\n",
       "    </tr>\n",
       "    <tr>\n",
       "      <th id=\"T_eab8a_level0_row5\" class=\"row_heading level0 row5\" >rf</th>\n",
       "      <td id=\"T_eab8a_row5_col0\" class=\"data row5 col0\" >Random Forest Classifier</td>\n",
       "      <td id=\"T_eab8a_row5_col1\" class=\"data row5 col1\" >0.4606</td>\n",
       "      <td id=\"T_eab8a_row5_col2\" class=\"data row5 col2\" >0.9960</td>\n",
       "      <td id=\"T_eab8a_row5_col3\" class=\"data row5 col3\" >0.4606</td>\n",
       "      <td id=\"T_eab8a_row5_col4\" class=\"data row5 col4\" >0.7021</td>\n",
       "      <td id=\"T_eab8a_row5_col5\" class=\"data row5 col5\" >0.3567</td>\n",
       "      <td id=\"T_eab8a_row5_col6\" class=\"data row5 col6\" >0.1406</td>\n",
       "      <td id=\"T_eab8a_row5_col7\" class=\"data row5 col7\" >0.2635</td>\n",
       "      <td id=\"T_eab8a_row5_col8\" class=\"data row5 col8\" >0.0920</td>\n",
       "    </tr>\n",
       "    <tr>\n",
       "      <th id=\"T_eab8a_level0_row6\" class=\"row_heading level0 row6\" >et</th>\n",
       "      <td id=\"T_eab8a_row6_col0\" class=\"data row6 col0\" >Extra Trees Classifier</td>\n",
       "      <td id=\"T_eab8a_row6_col1\" class=\"data row6 col1\" >0.4372</td>\n",
       "      <td id=\"T_eab8a_row6_col2\" class=\"data row6 col2\" >0.9375</td>\n",
       "      <td id=\"T_eab8a_row6_col3\" class=\"data row6 col3\" >0.4372</td>\n",
       "      <td id=\"T_eab8a_row6_col4\" class=\"data row6 col4\" >0.3918</td>\n",
       "      <td id=\"T_eab8a_row6_col5\" class=\"data row6 col5\" >0.3141</td>\n",
       "      <td id=\"T_eab8a_row6_col6\" class=\"data row6 col6\" >0.1005</td>\n",
       "      <td id=\"T_eab8a_row6_col7\" class=\"data row6 col7\" >0.1834</td>\n",
       "      <td id=\"T_eab8a_row6_col8\" class=\"data row6 col8\" >0.0850</td>\n",
       "    </tr>\n",
       "    <tr>\n",
       "      <th id=\"T_eab8a_level0_row7\" class=\"row_heading level0 row7\" >gbc</th>\n",
       "      <td id=\"T_eab8a_row7_col0\" class=\"data row7 col0\" >Gradient Boosting Classifier</td>\n",
       "      <td id=\"T_eab8a_row7_col1\" class=\"data row7 col1\" >0.4316</td>\n",
       "      <td id=\"T_eab8a_row7_col2\" class=\"data row7 col2\" >0.0000</td>\n",
       "      <td id=\"T_eab8a_row7_col3\" class=\"data row7 col3\" >0.4316</td>\n",
       "      <td id=\"T_eab8a_row7_col4\" class=\"data row7 col4\" >0.2374</td>\n",
       "      <td id=\"T_eab8a_row7_col5\" class=\"data row7 col5\" >0.2708</td>\n",
       "      <td id=\"T_eab8a_row7_col6\" class=\"data row7 col6\" >0.0944</td>\n",
       "      <td id=\"T_eab8a_row7_col7\" class=\"data row7 col7\" >0.2034</td>\n",
       "      <td id=\"T_eab8a_row7_col8\" class=\"data row7 col8\" >0.2480</td>\n",
       "    </tr>\n",
       "    <tr>\n",
       "      <th id=\"T_eab8a_level0_row8\" class=\"row_heading level0 row8\" >dt</th>\n",
       "      <td id=\"T_eab8a_row8_col0\" class=\"data row8 col0\" >Decision Tree Classifier</td>\n",
       "      <td id=\"T_eab8a_row8_col1\" class=\"data row8 col1\" >0.3813</td>\n",
       "      <td id=\"T_eab8a_row8_col2\" class=\"data row8 col2\" >0.5009</td>\n",
       "      <td id=\"T_eab8a_row8_col3\" class=\"data row8 col3\" >0.3813</td>\n",
       "      <td id=\"T_eab8a_row8_col4\" class=\"data row8 col4\" >0.2094</td>\n",
       "      <td id=\"T_eab8a_row8_col5\" class=\"data row8 col5\" >0.2119</td>\n",
       "      <td id=\"T_eab8a_row8_col6\" class=\"data row8 col6\" >0.0019</td>\n",
       "      <td id=\"T_eab8a_row8_col7\" class=\"data row8 col7\" >0.0134</td>\n",
       "      <td id=\"T_eab8a_row8_col8\" class=\"data row8 col8\" >0.0450</td>\n",
       "    </tr>\n",
       "    <tr>\n",
       "      <th id=\"T_eab8a_level0_row9\" class=\"row_heading level0 row9\" >lda</th>\n",
       "      <td id=\"T_eab8a_row9_col0\" class=\"data row9 col0\" >Linear Discriminant Analysis</td>\n",
       "      <td id=\"T_eab8a_row9_col1\" class=\"data row9 col1\" >0.3813</td>\n",
       "      <td id=\"T_eab8a_row9_col2\" class=\"data row9 col2\" >0.0000</td>\n",
       "      <td id=\"T_eab8a_row9_col3\" class=\"data row9 col3\" >0.3813</td>\n",
       "      <td id=\"T_eab8a_row9_col4\" class=\"data row9 col4\" >0.2094</td>\n",
       "      <td id=\"T_eab8a_row9_col5\" class=\"data row9 col5\" >0.2119</td>\n",
       "      <td id=\"T_eab8a_row9_col6\" class=\"data row9 col6\" >0.0019</td>\n",
       "      <td id=\"T_eab8a_row9_col7\" class=\"data row9 col7\" >0.0134</td>\n",
       "      <td id=\"T_eab8a_row9_col8\" class=\"data row9 col8\" >0.0450</td>\n",
       "    </tr>\n",
       "    <tr>\n",
       "      <th id=\"T_eab8a_level0_row10\" class=\"row_heading level0 row10\" >lightgbm</th>\n",
       "      <td id=\"T_eab8a_row10_col0\" class=\"data row10 col0\" >Light Gradient Boosting Machine</td>\n",
       "      <td id=\"T_eab8a_row10_col1\" class=\"data row10 col1\" >0.3813</td>\n",
       "      <td id=\"T_eab8a_row10_col2\" class=\"data row10 col2\" >0.8274</td>\n",
       "      <td id=\"T_eab8a_row10_col3\" class=\"data row10 col3\" >0.3813</td>\n",
       "      <td id=\"T_eab8a_row10_col4\" class=\"data row10 col4\" >0.2094</td>\n",
       "      <td id=\"T_eab8a_row10_col5\" class=\"data row10 col5\" >0.2119</td>\n",
       "      <td id=\"T_eab8a_row10_col6\" class=\"data row10 col6\" >0.0019</td>\n",
       "      <td id=\"T_eab8a_row10_col7\" class=\"data row10 col7\" >0.0134</td>\n",
       "      <td id=\"T_eab8a_row10_col8\" class=\"data row10 col8\" >191.1860</td>\n",
       "    </tr>\n",
       "    <tr>\n",
       "      <th id=\"T_eab8a_level0_row11\" class=\"row_heading level0 row11\" >dummy</th>\n",
       "      <td id=\"T_eab8a_row11_col0\" class=\"data row11 col0\" >Dummy Classifier</td>\n",
       "      <td id=\"T_eab8a_row11_col1\" class=\"data row11 col1\" >0.3802</td>\n",
       "      <td id=\"T_eab8a_row11_col2\" class=\"data row11 col2\" >0.5000</td>\n",
       "      <td id=\"T_eab8a_row11_col3\" class=\"data row11 col3\" >0.3802</td>\n",
       "      <td id=\"T_eab8a_row11_col4\" class=\"data row11 col4\" >0.1446</td>\n",
       "      <td id=\"T_eab8a_row11_col5\" class=\"data row11 col5\" >0.2095</td>\n",
       "      <td id=\"T_eab8a_row11_col6\" class=\"data row11 col6\" >0.0000</td>\n",
       "      <td id=\"T_eab8a_row11_col7\" class=\"data row11 col7\" >0.0000</td>\n",
       "      <td id=\"T_eab8a_row11_col8\" class=\"data row11 col8\" >0.0480</td>\n",
       "    </tr>\n",
       "    <tr>\n",
       "      <th id=\"T_eab8a_level0_row12\" class=\"row_heading level0 row12\" >qda</th>\n",
       "      <td id=\"T_eab8a_row12_col0\" class=\"data row12 col0\" >Quadratic Discriminant Analysis</td>\n",
       "      <td id=\"T_eab8a_row12_col1\" class=\"data row12 col1\" >0.3367</td>\n",
       "      <td id=\"T_eab8a_row12_col2\" class=\"data row12 col2\" >0.0000</td>\n",
       "      <td id=\"T_eab8a_row12_col3\" class=\"data row12 col3\" >0.3367</td>\n",
       "      <td id=\"T_eab8a_row12_col4\" class=\"data row12 col4\" >0.1779</td>\n",
       "      <td id=\"T_eab8a_row12_col5\" class=\"data row12 col5\" >0.1714</td>\n",
       "      <td id=\"T_eab8a_row12_col6\" class=\"data row12 col6\" >0.0019</td>\n",
       "      <td id=\"T_eab8a_row12_col7\" class=\"data row12 col7\" >0.0134</td>\n",
       "      <td id=\"T_eab8a_row12_col8\" class=\"data row12 col8\" >0.0450</td>\n",
       "    </tr>\n",
       "    <tr>\n",
       "      <th id=\"T_eab8a_level0_row13\" class=\"row_heading level0 row13\" >xgboost</th>\n",
       "      <td id=\"T_eab8a_row13_col0\" class=\"data row13 col0\" >Extreme Gradient Boosting</td>\n",
       "      <td id=\"T_eab8a_row13_col1\" class=\"data row13 col1\" >0.3238</td>\n",
       "      <td id=\"T_eab8a_row13_col2\" class=\"data row13 col2\" >0.7623</td>\n",
       "      <td id=\"T_eab8a_row13_col3\" class=\"data row13 col3\" >0.3238</td>\n",
       "      <td id=\"T_eab8a_row13_col4\" class=\"data row13 col4\" >0.1049</td>\n",
       "      <td id=\"T_eab8a_row13_col5\" class=\"data row13 col5\" >0.1584</td>\n",
       "      <td id=\"T_eab8a_row13_col6\" class=\"data row13 col6\" >0.0000</td>\n",
       "      <td id=\"T_eab8a_row13_col7\" class=\"data row13 col7\" >0.0000</td>\n",
       "      <td id=\"T_eab8a_row13_col8\" class=\"data row13 col8\" >0.0790</td>\n",
       "    </tr>\n",
       "    <tr>\n",
       "      <th id=\"T_eab8a_level0_row14\" class=\"row_heading level0 row14\" >svm</th>\n",
       "      <td id=\"T_eab8a_row14_col0\" class=\"data row14 col0\" >SVM - Linear Kernel</td>\n",
       "      <td id=\"T_eab8a_row14_col1\" class=\"data row14 col1\" >0.3200</td>\n",
       "      <td id=\"T_eab8a_row14_col2\" class=\"data row14 col2\" >0.0000</td>\n",
       "      <td id=\"T_eab8a_row14_col3\" class=\"data row14 col3\" >0.3200</td>\n",
       "      <td id=\"T_eab8a_row14_col4\" class=\"data row14 col4\" >0.1389</td>\n",
       "      <td id=\"T_eab8a_row14_col5\" class=\"data row14 col5\" >0.1736</td>\n",
       "      <td id=\"T_eab8a_row14_col6\" class=\"data row14 col6\" >0.0064</td>\n",
       "      <td id=\"T_eab8a_row14_col7\" class=\"data row14 col7\" >0.0153</td>\n",
       "      <td id=\"T_eab8a_row14_col8\" class=\"data row14 col8\" >0.0550</td>\n",
       "    </tr>\n",
       "  </tbody>\n",
       "</table>\n"
      ],
      "text/plain": [
       "<pandas.io.formats.style.Styler at 0x7b71f91dbc10>"
      ]
     },
     "metadata": {},
     "output_type": "display_data"
    },
    {
     "data": {
      "application/vnd.jupyter.widget-view+json": {
       "model_id": "194a76ff12bb419aa3ca489ba4a4896d",
       "version_major": 2,
       "version_minor": 0
      },
      "text/plain": [
       "Processing:   0%|          | 0/65 [00:00<?, ?it/s]"
      ]
     },
     "metadata": {
      "application/vnd.jupyter.widget-view+json": {
       "colab": {
        "custom_widget_manager": {
         "url": "https://ssl.gstatic.com/colaboratory-static/widgets/colab-cdn-widget-manager/2b70e893a8ba7c0f/manager.min.js"
        }
       }
      }
     },
     "output_type": "display_data"
    },
    {
     "data": {
      "text/html": [],
      "text/plain": [
       "<IPython.core.display.HTML object>"
      ]
     },
     "metadata": {},
     "output_type": "display_data"
    }
   ],
   "source": [
    "bestmodel=compare_models()"
   ]
  },
  {
   "cell_type": "code",
   "execution_count": 27,
   "metadata": {
    "colab": {
     "base_uri": "https://localhost:8080/"
    },
    "id": "7ECX0g7_NBFs",
    "outputId": "cecc199d-7d5f-43e3-b92f-975f3ca95e7b"
   },
   "outputs": [
    {
     "name": "stdout",
     "output_type": "stream",
     "text": [
      "                                     Name  \\\n",
      "ID                                          \n",
      "lr                    Logistic Regression   \n",
      "knn                K Neighbors Classifier   \n",
      "nb                            Naive Bayes   \n",
      "dt               Decision Tree Classifier   \n",
      "svm                   SVM - Linear Kernel   \n",
      "rbfsvm                SVM - Radial Kernel   \n",
      "gpc           Gaussian Process Classifier   \n",
      "mlp                        MLP Classifier   \n",
      "ridge                    Ridge Classifier   \n",
      "rf               Random Forest Classifier   \n",
      "qda       Quadratic Discriminant Analysis   \n",
      "ada                  Ada Boost Classifier   \n",
      "gbc          Gradient Boosting Classifier   \n",
      "lda          Linear Discriminant Analysis   \n",
      "et                 Extra Trees Classifier   \n",
      "xgboost         Extreme Gradient Boosting   \n",
      "lightgbm  Light Gradient Boosting Machine   \n",
      "dummy                    Dummy Classifier   \n",
      "\n",
      "                                                  Reference  Turbo  \n",
      "ID                                                                  \n",
      "lr        sklearn.linear_model._logistic.LogisticRegression   True  \n",
      "knn       sklearn.neighbors._classification.KNeighborsCl...   True  \n",
      "nb                           sklearn.naive_bayes.GaussianNB   True  \n",
      "dt             sklearn.tree._classes.DecisionTreeClassifier   True  \n",
      "svm       sklearn.linear_model._stochastic_gradient.SGDC...   True  \n",
      "rbfsvm                             sklearn.svm._classes.SVC  False  \n",
      "gpc       sklearn.gaussian_process._gpc.GaussianProcessC...  False  \n",
      "mlp       sklearn.neural_network._multilayer_perceptron....  False  \n",
      "ridge           sklearn.linear_model._ridge.RidgeClassifier   True  \n",
      "rf          sklearn.ensemble._forest.RandomForestClassifier   True  \n",
      "qda       sklearn.discriminant_analysis.QuadraticDiscrim...   True  \n",
      "ada       sklearn.ensemble._weight_boosting.AdaBoostClas...   True  \n",
      "gbc         sklearn.ensemble._gb.GradientBoostingClassifier   True  \n",
      "lda       sklearn.discriminant_analysis.LinearDiscrimina...   True  \n",
      "et            sklearn.ensemble._forest.ExtraTreesClassifier   True  \n",
      "xgboost                       xgboost.sklearn.XGBClassifier   True  \n",
      "lightgbm                    lightgbm.sklearn.LGBMClassifier   True  \n",
      "dummy                         sklearn.dummy.DummyClassifier   True  \n"
     ]
    }
   ],
   "source": [
    "from pycaret.classification import models\n",
    "# Kullanılabilir modelleri listelemem gerekti çünkü pycaret orada geçen isimle kabul etmiyor\n",
    "available_models = models()\n",
    "print(available_models)"
   ]
  },
  {
   "cell_type": "code",
   "execution_count": 28,
   "metadata": {
    "colab": {
     "base_uri": "https://localhost:8080/",
     "height": 457,
     "referenced_widgets": [
      "f71d55ae2bca4d158106612dbe2fe96b",
      "d2bdda7e26974c8fab06642faf694128",
      "0c8a29b6fda44ca28d74313a62db35ed",
      "ad80f059c5b94c628eedf10fd81fc1ec",
      "a3d48d1fa50846b98a38c6e16c687c5e",
      "a5031fe77a2848f8bcbfb82da6e15a10",
      "3dc35f0edca44274a020450f07d7a5e8",
      "733c551f07504f2cb6ec858968342218",
      "e00fd7d3e38245f8895c13bc33cb6b0b",
      "8e35e63cfbc54c4da8a4016ac1c6902d",
      "4698dd2d2f9244848b53b0b16255626e"
     ]
    },
    "id": "ifKkx1WkMxi0",
    "outputId": "b849bcc6-781f-40af-cafe-225c381b38b2"
   },
   "outputs": [
    {
     "data": {
      "text/html": [],
      "text/plain": [
       "<IPython.core.display.HTML object>"
      ]
     },
     "metadata": {},
     "output_type": "display_data"
    },
    {
     "data": {
      "text/html": [
       "<style type=\"text/css\">\n",
       "#T_392be_row10_col0, #T_392be_row10_col1, #T_392be_row10_col2, #T_392be_row10_col3, #T_392be_row10_col4, #T_392be_row10_col5, #T_392be_row10_col6 {\n",
       "  background: yellow;\n",
       "}\n",
       "</style>\n",
       "<table id=\"T_392be\" class=\"dataframe\">\n",
       "  <thead>\n",
       "    <tr>\n",
       "      <th class=\"blank level0\" >&nbsp;</th>\n",
       "      <th id=\"T_392be_level0_col0\" class=\"col_heading level0 col0\" >Accuracy</th>\n",
       "      <th id=\"T_392be_level0_col1\" class=\"col_heading level0 col1\" >AUC</th>\n",
       "      <th id=\"T_392be_level0_col2\" class=\"col_heading level0 col2\" >Recall</th>\n",
       "      <th id=\"T_392be_level0_col3\" class=\"col_heading level0 col3\" >Prec.</th>\n",
       "      <th id=\"T_392be_level0_col4\" class=\"col_heading level0 col4\" >F1</th>\n",
       "      <th id=\"T_392be_level0_col5\" class=\"col_heading level0 col5\" >Kappa</th>\n",
       "      <th id=\"T_392be_level0_col6\" class=\"col_heading level0 col6\" >MCC</th>\n",
       "    </tr>\n",
       "    <tr>\n",
       "      <th class=\"index_name level0\" >Fold</th>\n",
       "      <th class=\"blank col0\" >&nbsp;</th>\n",
       "      <th class=\"blank col1\" >&nbsp;</th>\n",
       "      <th class=\"blank col2\" >&nbsp;</th>\n",
       "      <th class=\"blank col3\" >&nbsp;</th>\n",
       "      <th class=\"blank col4\" >&nbsp;</th>\n",
       "      <th class=\"blank col5\" >&nbsp;</th>\n",
       "      <th class=\"blank col6\" >&nbsp;</th>\n",
       "    </tr>\n",
       "  </thead>\n",
       "  <tbody>\n",
       "    <tr>\n",
       "      <th id=\"T_392be_level0_row0\" class=\"row_heading level0 row0\" >0</th>\n",
       "      <td id=\"T_392be_row0_col0\" class=\"data row0 col0\" >0.9000</td>\n",
       "      <td id=\"T_392be_row0_col1\" class=\"data row0 col1\" >0.9894</td>\n",
       "      <td id=\"T_392be_row0_col2\" class=\"data row0 col2\" >0.9000</td>\n",
       "      <td id=\"T_392be_row0_col3\" class=\"data row0 col3\" >0.9068</td>\n",
       "      <td id=\"T_392be_row0_col4\" class=\"data row0 col4\" >0.8997</td>\n",
       "      <td id=\"T_392be_row0_col5\" class=\"data row0 col5\" >0.8570</td>\n",
       "      <td id=\"T_392be_row0_col6\" class=\"data row0 col6\" >0.8594</td>\n",
       "    </tr>\n",
       "    <tr>\n",
       "      <th id=\"T_392be_level0_row1\" class=\"row_heading level0 row1\" >1</th>\n",
       "      <td id=\"T_392be_row1_col0\" class=\"data row1 col0\" >0.9106</td>\n",
       "      <td id=\"T_392be_row1_col1\" class=\"data row1 col1\" >0.9779</td>\n",
       "      <td id=\"T_392be_row1_col2\" class=\"data row1 col2\" >0.9106</td>\n",
       "      <td id=\"T_392be_row1_col3\" class=\"data row1 col3\" >0.9130</td>\n",
       "      <td id=\"T_392be_row1_col4\" class=\"data row1 col4\" >0.9106</td>\n",
       "      <td id=\"T_392be_row1_col5\" class=\"data row1 col5\" >0.8733</td>\n",
       "      <td id=\"T_392be_row1_col6\" class=\"data row1 col6\" >0.8736</td>\n",
       "    </tr>\n",
       "    <tr>\n",
       "      <th id=\"T_392be_level0_row2\" class=\"row_heading level0 row2\" >2</th>\n",
       "      <td id=\"T_392be_row2_col0\" class=\"data row2 col0\" >0.9106</td>\n",
       "      <td id=\"T_392be_row2_col1\" class=\"data row2 col1\" >0.9861</td>\n",
       "      <td id=\"T_392be_row2_col2\" class=\"data row2 col2\" >0.9106</td>\n",
       "      <td id=\"T_392be_row2_col3\" class=\"data row2 col3\" >0.9176</td>\n",
       "      <td id=\"T_392be_row2_col4\" class=\"data row2 col4\" >0.9104</td>\n",
       "      <td id=\"T_392be_row2_col5\" class=\"data row2 col5\" >0.8725</td>\n",
       "      <td id=\"T_392be_row2_col6\" class=\"data row2 col6\" >0.8750</td>\n",
       "    </tr>\n",
       "    <tr>\n",
       "      <th id=\"T_392be_level0_row3\" class=\"row_heading level0 row3\" >3</th>\n",
       "      <td id=\"T_392be_row3_col0\" class=\"data row3 col0\" >0.8994</td>\n",
       "      <td id=\"T_392be_row3_col1\" class=\"data row3 col1\" >0.9839</td>\n",
       "      <td id=\"T_392be_row3_col2\" class=\"data row3 col2\" >0.8994</td>\n",
       "      <td id=\"T_392be_row3_col3\" class=\"data row3 col3\" >0.8986</td>\n",
       "      <td id=\"T_392be_row3_col4\" class=\"data row3 col4\" >0.8957</td>\n",
       "      <td id=\"T_392be_row3_col5\" class=\"data row3 col5\" >0.8566</td>\n",
       "      <td id=\"T_392be_row3_col6\" class=\"data row3 col6\" >0.8583</td>\n",
       "    </tr>\n",
       "    <tr>\n",
       "      <th id=\"T_392be_level0_row4\" class=\"row_heading level0 row4\" >4</th>\n",
       "      <td id=\"T_392be_row4_col0\" class=\"data row4 col0\" >0.8771</td>\n",
       "      <td id=\"T_392be_row4_col1\" class=\"data row4 col1\" >0.9788</td>\n",
       "      <td id=\"T_392be_row4_col2\" class=\"data row4 col2\" >0.8771</td>\n",
       "      <td id=\"T_392be_row4_col3\" class=\"data row4 col3\" >0.8912</td>\n",
       "      <td id=\"T_392be_row4_col4\" class=\"data row4 col4\" >0.8774</td>\n",
       "      <td id=\"T_392be_row4_col5\" class=\"data row4 col5\" >0.8246</td>\n",
       "      <td id=\"T_392be_row4_col6\" class=\"data row4 col6\" >0.8289</td>\n",
       "    </tr>\n",
       "    <tr>\n",
       "      <th id=\"T_392be_level0_row5\" class=\"row_heading level0 row5\" >5</th>\n",
       "      <td id=\"T_392be_row5_col0\" class=\"data row5 col0\" >0.8659</td>\n",
       "      <td id=\"T_392be_row5_col1\" class=\"data row5 col1\" >0.9889</td>\n",
       "      <td id=\"T_392be_row5_col2\" class=\"data row5 col2\" >0.8659</td>\n",
       "      <td id=\"T_392be_row5_col3\" class=\"data row5 col3\" >0.8715</td>\n",
       "      <td id=\"T_392be_row5_col4\" class=\"data row5 col4\" >0.8663</td>\n",
       "      <td id=\"T_392be_row5_col5\" class=\"data row5 col5\" >0.8081</td>\n",
       "      <td id=\"T_392be_row5_col6\" class=\"data row5 col6\" >0.8097</td>\n",
       "    </tr>\n",
       "    <tr>\n",
       "      <th id=\"T_392be_level0_row6\" class=\"row_heading level0 row6\" >6</th>\n",
       "      <td id=\"T_392be_row6_col0\" class=\"data row6 col0\" >0.9106</td>\n",
       "      <td id=\"T_392be_row6_col1\" class=\"data row6 col1\" >0.9649</td>\n",
       "      <td id=\"T_392be_row6_col2\" class=\"data row6 col2\" >0.9106</td>\n",
       "      <td id=\"T_392be_row6_col3\" class=\"data row6 col3\" >0.9116</td>\n",
       "      <td id=\"T_392be_row6_col4\" class=\"data row6 col4\" >0.9107</td>\n",
       "      <td id=\"T_392be_row6_col5\" class=\"data row6 col5\" >0.8724</td>\n",
       "      <td id=\"T_392be_row6_col6\" class=\"data row6 col6\" >0.8727</td>\n",
       "    </tr>\n",
       "    <tr>\n",
       "      <th id=\"T_392be_level0_row7\" class=\"row_heading level0 row7\" >7</th>\n",
       "      <td id=\"T_392be_row7_col0\" class=\"data row7 col0\" >0.8659</td>\n",
       "      <td id=\"T_392be_row7_col1\" class=\"data row7 col1\" >0.9748</td>\n",
       "      <td id=\"T_392be_row7_col2\" class=\"data row7 col2\" >0.8659</td>\n",
       "      <td id=\"T_392be_row7_col3\" class=\"data row7 col3\" >0.8479</td>\n",
       "      <td id=\"T_392be_row7_col4\" class=\"data row7 col4\" >0.8556</td>\n",
       "      <td id=\"T_392be_row7_col5\" class=\"data row7 col5\" >0.8068</td>\n",
       "      <td id=\"T_392be_row7_col6\" class=\"data row7 col6\" >0.8082</td>\n",
       "    </tr>\n",
       "    <tr>\n",
       "      <th id=\"T_392be_level0_row8\" class=\"row_heading level0 row8\" >8</th>\n",
       "      <td id=\"T_392be_row8_col0\" class=\"data row8 col0\" >0.8883</td>\n",
       "      <td id=\"T_392be_row8_col1\" class=\"data row8 col1\" >0.9789</td>\n",
       "      <td id=\"T_392be_row8_col2\" class=\"data row8 col2\" >0.8883</td>\n",
       "      <td id=\"T_392be_row8_col3\" class=\"data row8 col3\" >0.8942</td>\n",
       "      <td id=\"T_392be_row8_col4\" class=\"data row8 col4\" >0.8887</td>\n",
       "      <td id=\"T_392be_row8_col5\" class=\"data row8 col5\" >0.8422</td>\n",
       "      <td id=\"T_392be_row8_col6\" class=\"data row8 col6\" >0.8433</td>\n",
       "    </tr>\n",
       "    <tr>\n",
       "      <th id=\"T_392be_level0_row9\" class=\"row_heading level0 row9\" >9</th>\n",
       "      <td id=\"T_392be_row9_col0\" class=\"data row9 col0\" >0.8883</td>\n",
       "      <td id=\"T_392be_row9_col1\" class=\"data row9 col1\" >0.9837</td>\n",
       "      <td id=\"T_392be_row9_col2\" class=\"data row9 col2\" >0.8883</td>\n",
       "      <td id=\"T_392be_row9_col3\" class=\"data row9 col3\" >0.8907</td>\n",
       "      <td id=\"T_392be_row9_col4\" class=\"data row9 col4\" >0.8887</td>\n",
       "      <td id=\"T_392be_row9_col5\" class=\"data row9 col5\" >0.8402</td>\n",
       "      <td id=\"T_392be_row9_col6\" class=\"data row9 col6\" >0.8406</td>\n",
       "    </tr>\n",
       "    <tr>\n",
       "      <th id=\"T_392be_level0_row10\" class=\"row_heading level0 row10\" >Mean</th>\n",
       "      <td id=\"T_392be_row10_col0\" class=\"data row10 col0\" >0.8917</td>\n",
       "      <td id=\"T_392be_row10_col1\" class=\"data row10 col1\" >0.9807</td>\n",
       "      <td id=\"T_392be_row10_col2\" class=\"data row10 col2\" >0.8917</td>\n",
       "      <td id=\"T_392be_row10_col3\" class=\"data row10 col3\" >0.8943</td>\n",
       "      <td id=\"T_392be_row10_col4\" class=\"data row10 col4\" >0.8904</td>\n",
       "      <td id=\"T_392be_row10_col5\" class=\"data row10 col5\" >0.8454</td>\n",
       "      <td id=\"T_392be_row10_col6\" class=\"data row10 col6\" >0.8470</td>\n",
       "    </tr>\n",
       "    <tr>\n",
       "      <th id=\"T_392be_level0_row11\" class=\"row_heading level0 row11\" >Std</th>\n",
       "      <td id=\"T_392be_row11_col0\" class=\"data row11 col0\" >0.0166</td>\n",
       "      <td id=\"T_392be_row11_col1\" class=\"data row11 col1\" >0.0070</td>\n",
       "      <td id=\"T_392be_row11_col2\" class=\"data row11 col2\" >0.0166</td>\n",
       "      <td id=\"T_392be_row11_col3\" class=\"data row11 col3\" >0.0201</td>\n",
       "      <td id=\"T_392be_row11_col4\" class=\"data row11 col4\" >0.0182</td>\n",
       "      <td id=\"T_392be_row11_col5\" class=\"data row11 col5\" >0.0242</td>\n",
       "      <td id=\"T_392be_row11_col6\" class=\"data row11 col6\" >0.0239</td>\n",
       "    </tr>\n",
       "  </tbody>\n",
       "</table>\n"
      ],
      "text/plain": [
       "<pandas.io.formats.style.Styler at 0x7b71f81f6770>"
      ]
     },
     "metadata": {},
     "output_type": "display_data"
    },
    {
     "data": {
      "application/vnd.jupyter.widget-view+json": {
       "model_id": "f71d55ae2bca4d158106612dbe2fe96b",
       "version_major": 2,
       "version_minor": 0
      },
      "text/plain": [
       "Processing:   0%|          | 0/4 [00:00<?, ?it/s]"
      ]
     },
     "metadata": {
      "application/vnd.jupyter.widget-view+json": {
       "colab": {
        "custom_widget_manager": {
         "url": "https://ssl.gstatic.com/colaboratory-static/widgets/colab-cdn-widget-manager/2b70e893a8ba7c0f/manager.min.js"
        }
       }
      }
     },
     "output_type": "display_data"
    },
    {
     "data": {
      "text/html": [],
      "text/plain": [
       "<IPython.core.display.HTML object>"
      ]
     },
     "metadata": {},
     "output_type": "display_data"
    }
   ],
   "source": [
    "best_model = create_model('nb')  # Naive Bayes modeli oluşturma artık pycarette naive bayes\"nb\" olarak geçiyor, diğer türlü hata"
   ]
  },
  {
   "cell_type": "code",
   "execution_count": null,
   "metadata": {
    "id": "HkgH9gy9NgjM"
   },
   "outputs": [],
   "source": []
  }
 ],
 "metadata": {
  "accelerator": "GPU",
  "colab": {
   "gpuType": "A100",
   "machine_shape": "hm",
   "provenance": []
  },
  "kernelspec": {
   "display_name": "Python 3 (ipykernel)",
   "language": "python",
   "name": "python3"
  },
  "language_info": {
   "codemirror_mode": {
    "name": "ipython",
    "version": 3
   },
   "file_extension": ".py",
   "mimetype": "text/x-python",
   "name": "python",
   "nbconvert_exporter": "python",
   "pygments_lexer": "ipython3",
   "version": "3.12.4"
  },
  "widgets": {
   "application/vnd.jupyter.widget-state+json": {
    "0c8a29b6fda44ca28d74313a62db35ed": {
     "model_module": "@jupyter-widgets/controls",
     "model_module_version": "1.5.0",
     "model_name": "FloatProgressModel",
     "state": {
      "_dom_classes": [],
      "_model_module": "@jupyter-widgets/controls",
      "_model_module_version": "1.5.0",
      "_model_name": "FloatProgressModel",
      "_view_count": null,
      "_view_module": "@jupyter-widgets/controls",
      "_view_module_version": "1.5.0",
      "_view_name": "ProgressView",
      "bar_style": "",
      "description": "",
      "description_tooltip": null,
      "layout": "IPY_MODEL_733c551f07504f2cb6ec858968342218",
      "max": 4,
      "min": 0,
      "orientation": "horizontal",
      "style": "IPY_MODEL_e00fd7d3e38245f8895c13bc33cb6b0b",
      "value": 4
     }
    },
    "11e3e4e3a5d14a6296055ffc5a84a4df": {
     "model_module": "@jupyter-widgets/base",
     "model_module_version": "1.2.0",
     "model_name": "LayoutModel",
     "state": {
      "_model_module": "@jupyter-widgets/base",
      "_model_module_version": "1.2.0",
      "_model_name": "LayoutModel",
      "_view_count": null,
      "_view_module": "@jupyter-widgets/base",
      "_view_module_version": "1.2.0",
      "_view_name": "LayoutView",
      "align_content": null,
      "align_items": null,
      "align_self": null,
      "border": null,
      "bottom": null,
      "display": null,
      "flex": null,
      "flex_flow": null,
      "grid_area": null,
      "grid_auto_columns": null,
      "grid_auto_flow": null,
      "grid_auto_rows": null,
      "grid_column": null,
      "grid_gap": null,
      "grid_row": null,
      "grid_template_areas": null,
      "grid_template_columns": null,
      "grid_template_rows": null,
      "height": null,
      "justify_content": null,
      "justify_items": null,
      "left": null,
      "margin": null,
      "max_height": null,
      "max_width": null,
      "min_height": null,
      "min_width": null,
      "object_fit": null,
      "object_position": null,
      "order": null,
      "overflow": null,
      "overflow_x": null,
      "overflow_y": null,
      "padding": null,
      "right": null,
      "top": null,
      "visibility": null,
      "width": null
     }
    },
    "15719a2fcf9f4b4e83ccd25355df68f1": {
     "model_module": "@jupyter-widgets/controls",
     "model_module_version": "1.5.0",
     "model_name": "FloatProgressModel",
     "state": {
      "_dom_classes": [],
      "_model_module": "@jupyter-widgets/controls",
      "_model_module_version": "1.5.0",
      "_model_name": "FloatProgressModel",
      "_view_count": null,
      "_view_module": "@jupyter-widgets/controls",
      "_view_module_version": "1.5.0",
      "_view_name": "ProgressView",
      "bar_style": "",
      "description": "",
      "description_tooltip": null,
      "layout": "IPY_MODEL_5e33a05c8ed34c02b9a31afcb9b5f842",
      "max": 65,
      "min": 0,
      "orientation": "horizontal",
      "style": "IPY_MODEL_274fb9faf3a342f1abe6b8a90cd32e9e",
      "value": 65
     }
    },
    "194a76ff12bb419aa3ca489ba4a4896d": {
     "model_module": "@jupyter-widgets/controls",
     "model_module_version": "1.5.0",
     "model_name": "HBoxModel",
     "state": {
      "_dom_classes": [],
      "_model_module": "@jupyter-widgets/controls",
      "_model_module_version": "1.5.0",
      "_model_name": "HBoxModel",
      "_view_count": null,
      "_view_module": "@jupyter-widgets/controls",
      "_view_module_version": "1.5.0",
      "_view_name": "HBoxView",
      "box_style": "",
      "children": [
       "IPY_MODEL_7bd5272445e049dd9736c3233c450e05",
       "IPY_MODEL_15719a2fcf9f4b4e83ccd25355df68f1",
       "IPY_MODEL_52a24ffce47b4ef6ae1f2b58241f4993"
      ],
      "layout": "IPY_MODEL_9f0bcd64b94749758af16480564642c0"
     }
    },
    "274fb9faf3a342f1abe6b8a90cd32e9e": {
     "model_module": "@jupyter-widgets/controls",
     "model_module_version": "1.5.0",
     "model_name": "ProgressStyleModel",
     "state": {
      "_model_module": "@jupyter-widgets/controls",
      "_model_module_version": "1.5.0",
      "_model_name": "ProgressStyleModel",
      "_view_count": null,
      "_view_module": "@jupyter-widgets/base",
      "_view_module_version": "1.2.0",
      "_view_name": "StyleView",
      "bar_color": null,
      "description_width": ""
     }
    },
    "3dc35f0edca44274a020450f07d7a5e8": {
     "model_module": "@jupyter-widgets/controls",
     "model_module_version": "1.5.0",
     "model_name": "DescriptionStyleModel",
     "state": {
      "_model_module": "@jupyter-widgets/controls",
      "_model_module_version": "1.5.0",
      "_model_name": "DescriptionStyleModel",
      "_view_count": null,
      "_view_module": "@jupyter-widgets/base",
      "_view_module_version": "1.2.0",
      "_view_name": "StyleView",
      "description_width": ""
     }
    },
    "4698dd2d2f9244848b53b0b16255626e": {
     "model_module": "@jupyter-widgets/controls",
     "model_module_version": "1.5.0",
     "model_name": "DescriptionStyleModel",
     "state": {
      "_model_module": "@jupyter-widgets/controls",
      "_model_module_version": "1.5.0",
      "_model_name": "DescriptionStyleModel",
      "_view_count": null,
      "_view_module": "@jupyter-widgets/base",
      "_view_module_version": "1.2.0",
      "_view_name": "StyleView",
      "description_width": ""
     }
    },
    "52a24ffce47b4ef6ae1f2b58241f4993": {
     "model_module": "@jupyter-widgets/controls",
     "model_module_version": "1.5.0",
     "model_name": "HTMLModel",
     "state": {
      "_dom_classes": [],
      "_model_module": "@jupyter-widgets/controls",
      "_model_module_version": "1.5.0",
      "_model_name": "HTMLModel",
      "_view_count": null,
      "_view_module": "@jupyter-widgets/controls",
      "_view_module_version": "1.5.0",
      "_view_name": "HTMLView",
      "description": "",
      "description_tooltip": null,
      "layout": "IPY_MODEL_11e3e4e3a5d14a6296055ffc5a84a4df",
      "placeholder": "​",
      "style": "IPY_MODEL_a8ee990b5ed34beca51fa4d61df461ac",
      "value": " 65/65 [32:12&lt;00:00, 69.01s/it]"
     }
    },
    "5e33a05c8ed34c02b9a31afcb9b5f842": {
     "model_module": "@jupyter-widgets/base",
     "model_module_version": "1.2.0",
     "model_name": "LayoutModel",
     "state": {
      "_model_module": "@jupyter-widgets/base",
      "_model_module_version": "1.2.0",
      "_model_name": "LayoutModel",
      "_view_count": null,
      "_view_module": "@jupyter-widgets/base",
      "_view_module_version": "1.2.0",
      "_view_name": "LayoutView",
      "align_content": null,
      "align_items": null,
      "align_self": null,
      "border": null,
      "bottom": null,
      "display": null,
      "flex": null,
      "flex_flow": null,
      "grid_area": null,
      "grid_auto_columns": null,
      "grid_auto_flow": null,
      "grid_auto_rows": null,
      "grid_column": null,
      "grid_gap": null,
      "grid_row": null,
      "grid_template_areas": null,
      "grid_template_columns": null,
      "grid_template_rows": null,
      "height": null,
      "justify_content": null,
      "justify_items": null,
      "left": null,
      "margin": null,
      "max_height": null,
      "max_width": null,
      "min_height": null,
      "min_width": null,
      "object_fit": null,
      "object_position": null,
      "order": null,
      "overflow": null,
      "overflow_x": null,
      "overflow_y": null,
      "padding": null,
      "right": null,
      "top": null,
      "visibility": null,
      "width": null
     }
    },
    "733c551f07504f2cb6ec858968342218": {
     "model_module": "@jupyter-widgets/base",
     "model_module_version": "1.2.0",
     "model_name": "LayoutModel",
     "state": {
      "_model_module": "@jupyter-widgets/base",
      "_model_module_version": "1.2.0",
      "_model_name": "LayoutModel",
      "_view_count": null,
      "_view_module": "@jupyter-widgets/base",
      "_view_module_version": "1.2.0",
      "_view_name": "LayoutView",
      "align_content": null,
      "align_items": null,
      "align_self": null,
      "border": null,
      "bottom": null,
      "display": null,
      "flex": null,
      "flex_flow": null,
      "grid_area": null,
      "grid_auto_columns": null,
      "grid_auto_flow": null,
      "grid_auto_rows": null,
      "grid_column": null,
      "grid_gap": null,
      "grid_row": null,
      "grid_template_areas": null,
      "grid_template_columns": null,
      "grid_template_rows": null,
      "height": null,
      "justify_content": null,
      "justify_items": null,
      "left": null,
      "margin": null,
      "max_height": null,
      "max_width": null,
      "min_height": null,
      "min_width": null,
      "object_fit": null,
      "object_position": null,
      "order": null,
      "overflow": null,
      "overflow_x": null,
      "overflow_y": null,
      "padding": null,
      "right": null,
      "top": null,
      "visibility": null,
      "width": null
     }
    },
    "7bd5272445e049dd9736c3233c450e05": {
     "model_module": "@jupyter-widgets/controls",
     "model_module_version": "1.5.0",
     "model_name": "HTMLModel",
     "state": {
      "_dom_classes": [],
      "_model_module": "@jupyter-widgets/controls",
      "_model_module_version": "1.5.0",
      "_model_name": "HTMLModel",
      "_view_count": null,
      "_view_module": "@jupyter-widgets/controls",
      "_view_module_version": "1.5.0",
      "_view_name": "HTMLView",
      "description": "",
      "description_tooltip": null,
      "layout": "IPY_MODEL_ed0f26c3d147408c99f443bd8fa8a177",
      "placeholder": "​",
      "style": "IPY_MODEL_f57c572350064d6ea8af95e5538b74b5",
      "value": "Processing: 100%"
     }
    },
    "8e35e63cfbc54c4da8a4016ac1c6902d": {
     "model_module": "@jupyter-widgets/base",
     "model_module_version": "1.2.0",
     "model_name": "LayoutModel",
     "state": {
      "_model_module": "@jupyter-widgets/base",
      "_model_module_version": "1.2.0",
      "_model_name": "LayoutModel",
      "_view_count": null,
      "_view_module": "@jupyter-widgets/base",
      "_view_module_version": "1.2.0",
      "_view_name": "LayoutView",
      "align_content": null,
      "align_items": null,
      "align_self": null,
      "border": null,
      "bottom": null,
      "display": null,
      "flex": null,
      "flex_flow": null,
      "grid_area": null,
      "grid_auto_columns": null,
      "grid_auto_flow": null,
      "grid_auto_rows": null,
      "grid_column": null,
      "grid_gap": null,
      "grid_row": null,
      "grid_template_areas": null,
      "grid_template_columns": null,
      "grid_template_rows": null,
      "height": null,
      "justify_content": null,
      "justify_items": null,
      "left": null,
      "margin": null,
      "max_height": null,
      "max_width": null,
      "min_height": null,
      "min_width": null,
      "object_fit": null,
      "object_position": null,
      "order": null,
      "overflow": null,
      "overflow_x": null,
      "overflow_y": null,
      "padding": null,
      "right": null,
      "top": null,
      "visibility": null,
      "width": null
     }
    },
    "9f0bcd64b94749758af16480564642c0": {
     "model_module": "@jupyter-widgets/base",
     "model_module_version": "1.2.0",
     "model_name": "LayoutModel",
     "state": {
      "_model_module": "@jupyter-widgets/base",
      "_model_module_version": "1.2.0",
      "_model_name": "LayoutModel",
      "_view_count": null,
      "_view_module": "@jupyter-widgets/base",
      "_view_module_version": "1.2.0",
      "_view_name": "LayoutView",
      "align_content": null,
      "align_items": null,
      "align_self": null,
      "border": null,
      "bottom": null,
      "display": null,
      "flex": null,
      "flex_flow": null,
      "grid_area": null,
      "grid_auto_columns": null,
      "grid_auto_flow": null,
      "grid_auto_rows": null,
      "grid_column": null,
      "grid_gap": null,
      "grid_row": null,
      "grid_template_areas": null,
      "grid_template_columns": null,
      "grid_template_rows": null,
      "height": null,
      "justify_content": null,
      "justify_items": null,
      "left": null,
      "margin": null,
      "max_height": null,
      "max_width": null,
      "min_height": null,
      "min_width": null,
      "object_fit": null,
      "object_position": null,
      "order": null,
      "overflow": null,
      "overflow_x": null,
      "overflow_y": null,
      "padding": null,
      "right": null,
      "top": null,
      "visibility": "hidden",
      "width": null
     }
    },
    "a3d48d1fa50846b98a38c6e16c687c5e": {
     "model_module": "@jupyter-widgets/base",
     "model_module_version": "1.2.0",
     "model_name": "LayoutModel",
     "state": {
      "_model_module": "@jupyter-widgets/base",
      "_model_module_version": "1.2.0",
      "_model_name": "LayoutModel",
      "_view_count": null,
      "_view_module": "@jupyter-widgets/base",
      "_view_module_version": "1.2.0",
      "_view_name": "LayoutView",
      "align_content": null,
      "align_items": null,
      "align_self": null,
      "border": null,
      "bottom": null,
      "display": null,
      "flex": null,
      "flex_flow": null,
      "grid_area": null,
      "grid_auto_columns": null,
      "grid_auto_flow": null,
      "grid_auto_rows": null,
      "grid_column": null,
      "grid_gap": null,
      "grid_row": null,
      "grid_template_areas": null,
      "grid_template_columns": null,
      "grid_template_rows": null,
      "height": null,
      "justify_content": null,
      "justify_items": null,
      "left": null,
      "margin": null,
      "max_height": null,
      "max_width": null,
      "min_height": null,
      "min_width": null,
      "object_fit": null,
      "object_position": null,
      "order": null,
      "overflow": null,
      "overflow_x": null,
      "overflow_y": null,
      "padding": null,
      "right": null,
      "top": null,
      "visibility": "hidden",
      "width": null
     }
    },
    "a5031fe77a2848f8bcbfb82da6e15a10": {
     "model_module": "@jupyter-widgets/base",
     "model_module_version": "1.2.0",
     "model_name": "LayoutModel",
     "state": {
      "_model_module": "@jupyter-widgets/base",
      "_model_module_version": "1.2.0",
      "_model_name": "LayoutModel",
      "_view_count": null,
      "_view_module": "@jupyter-widgets/base",
      "_view_module_version": "1.2.0",
      "_view_name": "LayoutView",
      "align_content": null,
      "align_items": null,
      "align_self": null,
      "border": null,
      "bottom": null,
      "display": null,
      "flex": null,
      "flex_flow": null,
      "grid_area": null,
      "grid_auto_columns": null,
      "grid_auto_flow": null,
      "grid_auto_rows": null,
      "grid_column": null,
      "grid_gap": null,
      "grid_row": null,
      "grid_template_areas": null,
      "grid_template_columns": null,
      "grid_template_rows": null,
      "height": null,
      "justify_content": null,
      "justify_items": null,
      "left": null,
      "margin": null,
      "max_height": null,
      "max_width": null,
      "min_height": null,
      "min_width": null,
      "object_fit": null,
      "object_position": null,
      "order": null,
      "overflow": null,
      "overflow_x": null,
      "overflow_y": null,
      "padding": null,
      "right": null,
      "top": null,
      "visibility": null,
      "width": null
     }
    },
    "a8ee990b5ed34beca51fa4d61df461ac": {
     "model_module": "@jupyter-widgets/controls",
     "model_module_version": "1.5.0",
     "model_name": "DescriptionStyleModel",
     "state": {
      "_model_module": "@jupyter-widgets/controls",
      "_model_module_version": "1.5.0",
      "_model_name": "DescriptionStyleModel",
      "_view_count": null,
      "_view_module": "@jupyter-widgets/base",
      "_view_module_version": "1.2.0",
      "_view_name": "StyleView",
      "description_width": ""
     }
    },
    "ad80f059c5b94c628eedf10fd81fc1ec": {
     "model_module": "@jupyter-widgets/controls",
     "model_module_version": "1.5.0",
     "model_name": "HTMLModel",
     "state": {
      "_dom_classes": [],
      "_model_module": "@jupyter-widgets/controls",
      "_model_module_version": "1.5.0",
      "_model_name": "HTMLModel",
      "_view_count": null,
      "_view_module": "@jupyter-widgets/controls",
      "_view_module_version": "1.5.0",
      "_view_name": "HTMLView",
      "description": "",
      "description_tooltip": null,
      "layout": "IPY_MODEL_8e35e63cfbc54c4da8a4016ac1c6902d",
      "placeholder": "​",
      "style": "IPY_MODEL_4698dd2d2f9244848b53b0b16255626e",
      "value": " 4/4 [00:04&lt;00:00,  1.07s/it]"
     }
    },
    "d2bdda7e26974c8fab06642faf694128": {
     "model_module": "@jupyter-widgets/controls",
     "model_module_version": "1.5.0",
     "model_name": "HTMLModel",
     "state": {
      "_dom_classes": [],
      "_model_module": "@jupyter-widgets/controls",
      "_model_module_version": "1.5.0",
      "_model_name": "HTMLModel",
      "_view_count": null,
      "_view_module": "@jupyter-widgets/controls",
      "_view_module_version": "1.5.0",
      "_view_name": "HTMLView",
      "description": "",
      "description_tooltip": null,
      "layout": "IPY_MODEL_a5031fe77a2848f8bcbfb82da6e15a10",
      "placeholder": "​",
      "style": "IPY_MODEL_3dc35f0edca44274a020450f07d7a5e8",
      "value": "Processing: 100%"
     }
    },
    "e00fd7d3e38245f8895c13bc33cb6b0b": {
     "model_module": "@jupyter-widgets/controls",
     "model_module_version": "1.5.0",
     "model_name": "ProgressStyleModel",
     "state": {
      "_model_module": "@jupyter-widgets/controls",
      "_model_module_version": "1.5.0",
      "_model_name": "ProgressStyleModel",
      "_view_count": null,
      "_view_module": "@jupyter-widgets/base",
      "_view_module_version": "1.2.0",
      "_view_name": "StyleView",
      "bar_color": null,
      "description_width": ""
     }
    },
    "ed0f26c3d147408c99f443bd8fa8a177": {
     "model_module": "@jupyter-widgets/base",
     "model_module_version": "1.2.0",
     "model_name": "LayoutModel",
     "state": {
      "_model_module": "@jupyter-widgets/base",
      "_model_module_version": "1.2.0",
      "_model_name": "LayoutModel",
      "_view_count": null,
      "_view_module": "@jupyter-widgets/base",
      "_view_module_version": "1.2.0",
      "_view_name": "LayoutView",
      "align_content": null,
      "align_items": null,
      "align_self": null,
      "border": null,
      "bottom": null,
      "display": null,
      "flex": null,
      "flex_flow": null,
      "grid_area": null,
      "grid_auto_columns": null,
      "grid_auto_flow": null,
      "grid_auto_rows": null,
      "grid_column": null,
      "grid_gap": null,
      "grid_row": null,
      "grid_template_areas": null,
      "grid_template_columns": null,
      "grid_template_rows": null,
      "height": null,
      "justify_content": null,
      "justify_items": null,
      "left": null,
      "margin": null,
      "max_height": null,
      "max_width": null,
      "min_height": null,
      "min_width": null,
      "object_fit": null,
      "object_position": null,
      "order": null,
      "overflow": null,
      "overflow_x": null,
      "overflow_y": null,
      "padding": null,
      "right": null,
      "top": null,
      "visibility": null,
      "width": null
     }
    },
    "f57c572350064d6ea8af95e5538b74b5": {
     "model_module": "@jupyter-widgets/controls",
     "model_module_version": "1.5.0",
     "model_name": "DescriptionStyleModel",
     "state": {
      "_model_module": "@jupyter-widgets/controls",
      "_model_module_version": "1.5.0",
      "_model_name": "DescriptionStyleModel",
      "_view_count": null,
      "_view_module": "@jupyter-widgets/base",
      "_view_module_version": "1.2.0",
      "_view_name": "StyleView",
      "description_width": ""
     }
    },
    "f71d55ae2bca4d158106612dbe2fe96b": {
     "model_module": "@jupyter-widgets/controls",
     "model_module_version": "1.5.0",
     "model_name": "HBoxModel",
     "state": {
      "_dom_classes": [],
      "_model_module": "@jupyter-widgets/controls",
      "_model_module_version": "1.5.0",
      "_model_name": "HBoxModel",
      "_view_count": null,
      "_view_module": "@jupyter-widgets/controls",
      "_view_module_version": "1.5.0",
      "_view_name": "HBoxView",
      "box_style": "",
      "children": [
       "IPY_MODEL_d2bdda7e26974c8fab06642faf694128",
       "IPY_MODEL_0c8a29b6fda44ca28d74313a62db35ed",
       "IPY_MODEL_ad80f059c5b94c628eedf10fd81fc1ec"
      ],
      "layout": "IPY_MODEL_a3d48d1fa50846b98a38c6e16c687c5e"
     }
    }
   }
  }
 },
 "nbformat": 4,
 "nbformat_minor": 4
}
